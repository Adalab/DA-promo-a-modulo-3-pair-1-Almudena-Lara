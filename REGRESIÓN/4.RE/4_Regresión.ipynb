{
 "cells": [
  {
   "cell_type": "markdown",
   "metadata": {},
   "source": [
    "### Módulo 3 | PAIR PROGRAMMING | Regresión 4 | 30/05/22 | Almudena & Lara"
   ]
  },
  {
   "cell_type": "code",
   "execution_count": 25,
   "metadata": {},
   "outputs": [],
   "source": [
    "import pandas as pd \n",
    "import numpy as np\n",
    "import seaborn as sns\n",
    "import matplotlib.pyplot as plt\n",
    "import sidetable as stb\n",
    "from sklearn.model_selection import train_test_split\n",
    "from sklearn.linear_model import LinearRegression\n",
    "from sklearn.preprocessing import StandardScaler \n",
    "from sklearn.preprocessing import OneHotEncoder\n",
    "from sklearn.metrics import r2_score, mean_squared_error, mean_absolute_error\n",
    "import statsmodels.api as sm\n",
    "from statsmodels.tools.tools import add_constant\n",
    "from statsmodels.stats.outliers_influence import variance_inflation_factor"
   ]
  },
  {
   "cell_type": "code",
   "execution_count": 26,
   "metadata": {},
   "outputs": [
    {
     "data": {
      "text/html": [
       "<div>\n",
       "<style scoped>\n",
       "    .dataframe tbody tr th:only-of-type {\n",
       "        vertical-align: middle;\n",
       "    }\n",
       "\n",
       "    .dataframe tbody tr th {\n",
       "        vertical-align: top;\n",
       "    }\n",
       "\n",
       "    .dataframe thead th {\n",
       "        text-align: right;\n",
       "    }\n",
       "</style>\n",
       "<table border=\"1\" class=\"dataframe\">\n",
       "  <thead>\n",
       "    <tr style=\"text-align: right;\">\n",
       "      <th></th>\n",
       "      <th>year</th>\n",
       "      <th>runtime</th>\n",
       "      <th>imdb_rating</th>\n",
       "      <th>imdb_votes</th>\n",
       "      <th>imdb_gross</th>\n",
       "      <th>tomato_meter</th>\n",
       "      <th>tomato_review</th>\n",
       "      <th>tom_aud_score</th>\n",
       "      <th>tom_ratings</th>\n",
       "      <th>id</th>\n",
       "    </tr>\n",
       "  </thead>\n",
       "  <tbody>\n",
       "    <tr>\n",
       "      <th>0</th>\n",
       "      <td>-4.375529</td>\n",
       "      <td>5.123971</td>\n",
       "      <td>-0.832131</td>\n",
       "      <td>-1.217868</td>\n",
       "      <td>-1.229057</td>\n",
       "      <td>-2.046064</td>\n",
       "      <td>-1.854111</td>\n",
       "      <td>0.677915</td>\n",
       "      <td>-1.537205</td>\n",
       "      <td>-1.712912</td>\n",
       "    </tr>\n",
       "    <tr>\n",
       "      <th>1</th>\n",
       "      <td>-1.429412</td>\n",
       "      <td>-0.604692</td>\n",
       "      <td>-1.464796</td>\n",
       "      <td>-1.104512</td>\n",
       "      <td>-1.134723</td>\n",
       "      <td>-1.602010</td>\n",
       "      <td>-1.317328</td>\n",
       "      <td>-1.275902</td>\n",
       "      <td>-1.027573</td>\n",
       "      <td>-1.674419</td>\n",
       "    </tr>\n",
       "  </tbody>\n",
       "</table>\n",
       "</div>"
      ],
      "text/plain": [
       "       year   runtime  imdb_rating  imdb_votes  imdb_gross  tomato_meter  \\\n",
       "0 -4.375529  5.123971    -0.832131   -1.217868   -1.229057     -2.046064   \n",
       "1 -1.429412 -0.604692    -1.464796   -1.104512   -1.134723     -1.602010   \n",
       "\n",
       "   tomato_review  tom_aud_score  tom_ratings        id  \n",
       "0      -1.854111       0.677915    -1.537205 -1.712912  \n",
       "1      -1.317328      -1.275902    -1.027573 -1.674419  "
      ]
     },
     "execution_count": 26,
     "metadata": {},
     "output_type": "execute_result"
    }
   ],
   "source": [
    "df = pd.read_csv(\"mdc_num_esc.csv\", index_col=0, encoding=\"latin-1\")\n",
    "df.head(2)"
   ]
  },
  {
   "cell_type": "markdown",
   "metadata": {},
   "source": [
    "# Ejercicio 1\n",
    "Tomando los datos del mejor modelo obtenido en la clase de la pair de ayer.\n",
    "- Investiga la multicolinealidad de las variables independientes.\n",
    "- Selecciona aquellas variables que tengan una colinealidad dentro de los margenes estandar. Mostrando como se han ido eliminando las variables y como han cambiado los resultados del VIF.\n",
    "- Realiza un modelo de regresión lineal multiple para ver si se han mejorado los resultados obtenidos.\n",
    "\n",
    "\n"
   ]
  },
  {
   "cell_type": "markdown",
   "metadata": {},
   "source": [
    "<font color = orange> Rehacemos el modelo de regresión múltiple con todas las variables numéricas ya estandarizadas."
   ]
  },
  {
   "cell_type": "code",
   "execution_count": 27,
   "metadata": {},
   "outputs": [],
   "source": [
    "ind = df[['year', 'runtime', 'imdb_votes', 'imdb_gross',\n",
    "       'tomato_meter', 'tomato_review', 'tom_aud_score', 'tom_ratings', 'id']]\n",
    "dep = df[\"imdb_rating\"]"
   ]
  },
  {
   "cell_type": "code",
   "execution_count": 28,
   "metadata": {},
   "outputs": [
    {
     "name": "stdout",
     "output_type": "stream",
     "text": [
      "El r2 ajustado la predicción de entrenamiento es: 0.9117738734360294\n",
      "El r2 ajustado la predicción del test es: 0.75337076882087\n"
     ]
    }
   ],
   "source": [
    "# Separamos la muestra de los conjuntos train/test 80/20.\n",
    "ind_train, ind_test, dep_train, dep_test = train_test_split(ind, dep, test_size = 0.2,random_state = 1)\n",
    "\n",
    "# Realizamos la regresión lineal. Ajustándola a nuestros datos de entrenamiento para las variables independientes y la dependiente.\n",
    "LR = LinearRegression() \n",
    "LR.fit(ind_train, dep_train)\n",
    "\n",
    "#Creamos una predicción de la variable dependiente, a partir de los datos de las independientes (entrenamiento)\n",
    "dep_prediction_train =  LR.predict(ind_train)\n",
    "\n",
    "#Calculamos el R2_ajustado para nuestras muestras de entrenamiento:\n",
    "r2_ajustado_train = 1 - (1-r2_score(dep_train,dep_prediction_train)) * (ind_train.shape[0]-1)/(ind_train.shape[0]- ind_train.shape[1]-1)\n",
    "print(\"El r2 ajustado la predicción de entrenamiento es:\", r2_ajustado_train)\n",
    "\n",
    "#Realizamos una predicción de la variable dependiente a partir de los datos de test de las independientes:\n",
    "dep_prediction =  LR.predict(ind_test)\n",
    "dep_prediction\n",
    "\n",
    "# Calculamos el R2_ajustado entre las predicciones de la variable dependiente, y los datos de test:\n",
    "r2_ajustado_test = 1 - (1-r2_score(dep_test, dep_prediction)) * (ind_test.shape[0]-1)/(ind_test.shape[0]- ind_test.shape[1]-1)\n",
    "print(\"El r2 ajustado la predicción del test es:\", r2_ajustado_test)"
   ]
  },
  {
   "cell_type": "markdown",
   "metadata": {},
   "source": [
    "<font color = orange > Hacemos el VIF para todo el dataframe:"
   ]
  },
  {
   "cell_type": "code",
   "execution_count": 29,
   "metadata": {},
   "outputs": [],
   "source": [
    "def get_VIF(dataframe, target):\n",
    "        X = add_constant(dataframe.loc[:, dataframe.columns != target])\n",
    "        seriesObject = pd.Series([variance_inflation_factor(X.values,i) for i in range(X.shape[1])] , index=X.columns,).sort_values(ascending= False)\n",
    "        return seriesObject"
   ]
  },
  {
   "cell_type": "code",
   "execution_count": 30,
   "metadata": {},
   "outputs": [
    {
     "data": {
      "text/plain": [
       "tomato_review    8.118931\n",
       "year             4.573670\n",
       "imdb_gross       3.610089\n",
       "tom_aud_score    3.362895\n",
       "imdb_votes       3.018901\n",
       "tomato_meter     3.014114\n",
       "tom_ratings      1.715275\n",
       "runtime          1.587909\n",
       "id               1.290979\n",
       "const            1.000000\n",
       "dtype: float64"
      ]
     },
     "execution_count": 30,
     "metadata": {},
     "output_type": "execute_result"
    }
   ],
   "source": [
    "get_VIF(df, \"imdb_rating\")\n"
   ]
  },
  {
   "cell_type": "code",
   "execution_count": 35,
   "metadata": {},
   "outputs": [
    {
     "data": {
      "text/plain": [
       "tom_aud_score    3.067890\n",
       "imdb_votes       3.017341\n",
       "tomato_meter     3.010525\n",
       "imdb_gross       2.921642\n",
       "tom_ratings      1.495799\n",
       "runtime          1.450158\n",
       "year             1.434093\n",
       "id               1.265673\n",
       "const            1.000000\n",
       "dtype: float64"
      ]
     },
     "execution_count": 35,
     "metadata": {},
     "output_type": "execute_result"
    }
   ],
   "source": [
    "get_VIF(df.drop(columns = \"tomato_review\"), \"imdb_rating\")\n",
    "\n"
   ]
  },
  {
   "cell_type": "code",
   "execution_count": 36,
   "metadata": {},
   "outputs": [],
   "source": [
    "ind2 = df[['year', 'runtime', 'imdb_votes', 'imdb_gross',\n",
    "       'tomato_meter', 'tom_aud_score', 'tom_ratings', 'id']]\n",
    "dep2 = df[\"imdb_rating\"]"
   ]
  },
  {
   "cell_type": "code",
   "execution_count": 37,
   "metadata": {},
   "outputs": [
    {
     "name": "stdout",
     "output_type": "stream",
     "text": [
      "El r2 ajustado de la predicción de entrenamiento es: 0.9131505464213852\n",
      "El r2 ajustado de la predicción del test es: 0.7861694952600757\n"
     ]
    }
   ],
   "source": [
    "# Separamos la muestra de los conjuntos train/test 80/20.\n",
    "ind_train, ind_test, dep_train, dep_test = train_test_split(ind2, dep2, test_size = 0.2, random_state = 1)\n",
    "\n",
    "# Realizamos la regresión lineal. Ajustándola a nuestros datos de entrenamiento para las variables independientes y la dependiente.\n",
    "LR = LinearRegression() \n",
    "LR.fit(ind_train, dep_train)\n",
    "\n",
    "#Creamos una predicción de la variable dependiente, a partir de los datos de las independientes (entrenamiento)\n",
    "dep_prediction_train =  LR.predict(ind_train)\n",
    "\n",
    "#Calculamos el R2_ajustado para nuestras muestras de entrenamiento:\n",
    "r2_ajustado_train = 1 - (1-r2_score(dep_train,dep_prediction_train)) * (ind_train.shape[0]-1)/(ind_train.shape[0]- ind_train.shape[1]-1)\n",
    "print(\"El r2 ajustado de la predicción de entrenamiento es:\", r2_ajustado_train)\n",
    "\n",
    "#Realizamos una predicción de la variable dependiente a partir de los datos de test de las independientes:\n",
    "dep_prediction =  LR.predict(ind_test)\n",
    "dep_prediction\n",
    "\n",
    "# Calculamos el R2_ajustado entre las predicciones de la variable dependiente, y los datos de test:\n",
    "r2_ajustado_test = 1 - (1-r2_score(dep_test, dep_prediction)) * (ind_test.shape[0]-1)/(ind_test.shape[0]- ind_test.shape[1]-1)\n",
    "print(\"El r2 ajustado de la predicción del test es:\", r2_ajustado_test)"
   ]
  },
  {
   "cell_type": "markdown",
   "metadata": {},
   "source": [
    "# Ejercicio 2\n",
    "Estudia si tus resultados son acordes a las asunciones de linealidad.\n",
    "Toma ahora el dataset del mejor modelo obtenido y aplica los siguentes modelos de regresión con regularización.\n",
    "- Ridge\n",
    "- Lasso\n"
   ]
  },
  {
   "cell_type": "markdown",
   "metadata": {},
   "source": [
    "<font color=orange> Damos un paseo por las asunciones de linealidad. Gráficas, acompañadnos:"
   ]
  },
  {
   "cell_type": "code",
   "execution_count": 39,
   "metadata": {},
   "outputs": [
    {
     "data": {
      "image/png": "[encoded data removed]",
      "text/plain": [
       "<Figure size 576x288 with 1 Axes>"
      ]
     },
     "metadata": {
      "needs_background": "light"
     },
     "output_type": "display_data"
    },
    {
     "data": {
      "image/png": "[encoded data removed]",
      "text/plain": [
       "<Figure size 576x288 with 1 Axes>"
      ]
     },
     "metadata": {
      "needs_background": "light"
     },
     "output_type": "display_data"
    },
    {
     "name": "stderr",
     "output_type": "stream",
     "text": [
      "/home/adalaber/.local/lib/python3.6/site-packages/seaborn/distributions.py:2619: FutureWarning: `distplot` is a deprecated function and will be removed in a future version. Please adapt your code to use either `displot` (a figure-level function with similar flexibility) or `histplot` (an axes-level function for histograms).\n",
      "  warnings.warn(msg, FutureWarning)\n"
     ]
    },
    {
     "data": {
      "image/png": "[encoded data removed]",
      "text/plain": [
       "<Figure size 432x288 with 1 Axes>"
      ]
     },
     "metadata": {
      "needs_background": "light"
     },
     "output_type": "display_data"
    },
    {
     "data": {
      "image/png": "[encoded data removed]",
      "text/plain": [
       "<Figure size 432x288 with 1 Axes>"
      ]
     },
     "metadata": {
      "needs_background": "light"
     },
     "output_type": "display_data"
    }
   ],
   "source": [
    "\n",
    "residuals = (dep_test - dep_prediction)\n",
    "\n",
    "\n",
    "# Linealidad where!\n",
    "# 2. Independencia\n",
    "\n",
    "fig,ax = plt.subplots(figsize= (8,4))\n",
    "plt.scatter(x= dep_test , y=residuals)\n",
    "plt.axline((float(min(dep_prediction)),0),(float(max(dep_prediction)),0),color=\"black\",linestyle= '--') \n",
    "plt.title('Gráfica de dispersion de dos conjuntos de datos')\n",
    "ax.set_xlabel('Valores test de la variable respuesta: imdb_rating')\n",
    "ax.set_ylabel('Residuos')\n",
    "plt.show()\n",
    "\n",
    "\n",
    "# 3. Homocedasticidad\n",
    "\n",
    "fig,ax = plt.subplots(figsize= (8,4))\n",
    "plt.scatter(x=dep_prediction , y=residuals)\n",
    "plt.axline((float(min(dep_prediction)),0),(float(max(dep_prediction)),0),color=\"black\",linestyle= '--') \n",
    "plt.title('Gráfica de dispersion de dos conjuntos de datos')\n",
    "ax.set_xlabel('Valores predichos de la variable respuesta: imdb_rating')\n",
    "ax.set_ylabel('Residuos')\n",
    "plt.show()\n",
    "\n",
    "# 4. Normalidad\n",
    "# preprocessing.normalize()\n",
    "fig = plt.figure()\n",
    "sns.distplot(residuals, bins = len(residuals))\n",
    "\n",
    "sm.qqplot(residuals, line = '45', fit = True)\n",
    "plt.show()"
   ]
  },
  {
   "cell_type": "markdown",
   "metadata": {},
   "source": [
    "<font color = orange> ¿Disfrutaste del paseo? ¿Sientes mareos? \n",
    "- ¡¡RIDGE Y LASSO IN DA HOUSE!!"
   ]
  },
  {
   "cell_type": "code",
   "execution_count": null,
   "metadata": {},
   "outputs": [],
   "source": [
    "## Ridge\n",
    "\n",
    "x=df_diamantes_sin_outliers_encoded_oh_estandarizado.drop(columns = ['price'])\n",
    "y = df_diamantes_sin_outliers_encoded_oh_estandarizado['price']\n",
    "x_train, x_test, y_train, y_test = train_test_split(x, y, test_size = 0.2, random_state = 42)\n",
    "\n",
    "# Creamos la regresiónn lineal\n",
    "LR = Ridge(normalize= True) # nos aseguramos de que se normalizan los datos\n",
    "# Ajustamos el modelo\n",
    "\n",
    "LR.fit(x_train,y_train)\n",
    "y_prediction_train =  LR.predict(x_train)\n",
    "Adj_r2_train = 1 - (1-r2_score(y_train,y_prediction_train)) * (x_train.shape[0]-1)/(x_train.shape[0]-x_train.shape[1]-1)\n",
    "\n",
    "y_prediction =  LR.predict(x_test)\n",
    "Adj_r2_test = 1 - (1-r2_score(y_test, y_prediction)) * (x_test.shape[0]-1)/(x_test.shape[0]-x_test.shape[1]-1)\n",
    "\n",
    "# Para el conjunto de entrenamiento las méticas han sido\n",
    "print('Para el conjunto train:---------------')\n",
    "print('El valor de r2 score es ',r2_score(y_train,y_prediction_train))\n",
    "print('El valor de r2 score adjusted es ',Adj_r2_train)\n",
    "print('El MAE es',mean_absolute_error(y_train,y_prediction_train))\n",
    "print('EL RMSE es ',np.sqrt(mean_squared_error(y_train,y_prediction_train)))\n",
    "\n",
    "\n",
    "# Para el conjunto de test las métricas han sido\n",
    "print('Para el conjunto test:---------------')\n",
    "print('El valor de r2 score es ',r2_score(y_test,y_prediction))\n",
    "print('El valor de r2 score adjusted es ',Adj_r2_test)\n",
    "print('El MAE es',mean_absolute_error(y_test,y_prediction))\n",
    "print('EL RMSE es ',np.sqrt(mean_squared_error(y_test,y_prediction)))"
   ]
  },
  {
   "cell_type": "code",
   "execution_count": null,
   "metadata": {},
   "outputs": [],
   "source": [
    "#Lasso\n",
    "\n",
    "x=df_diamantes_sin_outliers_encoded_oh_estandarizado.drop(columns = ['price'])\n",
    "y = df_diamantes_sin_outliers_encoded_oh_estandarizado['price']\n",
    "x_train, x_test, y_train, y_test = train_test_split(x, y, test_size = 0.2, random_state = 42)\n",
    "\n",
    "# Creamos la regresiónn lineal\n",
    "LR = Lasso(normalize= True) # nos aseguramos de que se normalizan los datos\n",
    "# Ajustamos el modelo\n",
    "\n",
    "LR.fit(x_train,y_train)\n",
    "y_prediction_train =  LR.predict(x_train)\n",
    "Adj_r2_train = 1 - (1-r2_score(y_train,y_prediction_train)) * (x_train.shape[0]-1)/(x_train.shape[0]-x_train.shape[1]-1)\n",
    "\n",
    "y_prediction =  LR.predict(x_test)\n",
    "Adj_r2_test = 1 - (1-r2_score(y_test, y_prediction)) * (x_test.shape[0]-1)/(x_test.shape[0]-x_test.shape[1]-1)\n",
    "\n",
    "# Para el conjunto de entrenamiento las méticas han sido\n",
    "print('Para el conjunto train:---------------')\n",
    "print('El valor de r2 score es ',r2_score(y_train,y_prediction_train))\n",
    "print('El valor de r2 score adjusted es ',Adj_r2_train)\n",
    "print('El MAE es',mean_absolute_error(y_train,y_prediction_train))\n",
    "print('EL RMSE es ',np.sqrt(mean_squared_error(y_train,y_prediction_train)))\n",
    "\n",
    "\n",
    "# Para el conjunto de test las métricas han sido\n",
    "print('Para el conjunto test:---------------')\n",
    "print('El valor de r2 score es ',r2_score(y_test,y_prediction))\n",
    "print('El valor de r2 score adjusted es ',Adj_r2_test)\n",
    "print('El MAE es',mean_absolute_error(y_test,y_prediction))\n",
    "print('EL RMSE es ',np.sqrt(mean_squared_error(y_test,y_prediction)))"
   ]
  },
  {
   "cell_type": "markdown",
   "metadata": {},
   "source": [
    "# Ejercicio 3\n",
    "Compara los resultados del ajuste lineal multiple donde se han eliminado variables y los obtenidos aplicando las regresiones de tipo Ridge y Lassso. Explica los resultados obtenidos."
   ]
  }
 ],
 "metadata": {
  "interpreter": {
   "hash": "31f2aee4e71d21fbe5cf8b01ff0e069b9275f58929596ceb00d14d90e3e16cd6"
  },
  "kernelspec": {
   "display_name": "Python 3.6.9 64-bit",
   "language": "python",
   "name": "python3"
  },
  "language_info": {
   "codemirror_mode": {
    "name": "ipython",
    "version": 3
   },
   "file_extension": ".py",
   "mimetype": "text/x-python",
   "name": "python",
   "nbconvert_exporter": "python",
   "pygments_lexer": "ipython3",
   "version": "3.6.9"
  },
  "orig_nbformat": 4
 },
 "nbformat": 4,
 "nbformat_minor": 2
}
