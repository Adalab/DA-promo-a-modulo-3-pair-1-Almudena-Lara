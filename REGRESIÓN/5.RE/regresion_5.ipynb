{
 "cells": [
  {
   "cell_type": "markdown",
   "metadata": {},
   "source": [
    "### Módulo 3 | PAIR PROGRAMMING | Regresión 5 | 31/05/22 | Almudena & Lara"
   ]
  },
  {
   "cell_type": "code",
   "execution_count": 24,
   "metadata": {},
   "outputs": [],
   "source": [
    "import pandas as pd\n",
    "import seaborn as sns\n",
    "import matplotlib.pyplot as plt\n",
    "import numpy as np\n",
    "\n",
    "from statsmodels.multivariate.manova import MANOVA\n",
    "from sklearn.preprocessing import OneHotEncoder\n",
    "from sklearn.model_selection import train_test_split\n",
    "from sklearn.linear_model import LogisticRegression\n",
    "from sklearn.metrics import accuracy_score \n",
    "from sklearn.metrics import confusion_matrix,cohen_kappa_score\n",
    "import statsmodels.api as sm\n",
    "from statsmodels.tools.tools import add_constant\n",
    "from statsmodels.stats.outliers_influence import variance_inflation_factor"
   ]
  },
  {
   "cell_type": "markdown",
   "metadata": {},
   "source": [
    "# EJERCICIO 1  "
   ]
  },
  {
   "cell_type": "markdown",
   "metadata": {},
   "source": [
    "Buscar un conjunto de datos a analizar: (Obviar si se reutiliza el conjunto de las clases anteriores)\n",
    " - Se recomienda que el conjunto de datos a analizar tenga variables numéricas y categóricas, primando que haya más de una variable de tipo numérico. \n",
    " Ya que tambien se utilizarán serán útiles a la hora de realizar predicciones en las clases de regresión lineal múltiple. \n",
    " Así mismo se recomienda que los datasets esten ligeramente limpios para facilidar los análisis."
   ]
  },
  {
   "cell_type": "code",
   "execution_count": 2,
   "metadata": {},
   "outputs": [
    {
     "data": {
      "text/html": [
       "<div>\n",
       "<style scoped>\n",
       "    .dataframe tbody tr th:only-of-type {\n",
       "        vertical-align: middle;\n",
       "    }\n",
       "\n",
       "    .dataframe tbody tr th {\n",
       "        vertical-align: top;\n",
       "    }\n",
       "\n",
       "    .dataframe thead th {\n",
       "        text-align: right;\n",
       "    }\n",
       "</style>\n",
       "<table border=\"1\" class=\"dataframe\">\n",
       "  <thead>\n",
       "    <tr style=\"text-align: right;\">\n",
       "      <th></th>\n",
       "      <th>title</th>\n",
       "      <th>year</th>\n",
       "      <th>genre</th>\n",
       "      <th>runtime</th>\n",
       "      <th>mpa_rating</th>\n",
       "      <th>imdb_rating</th>\n",
       "      <th>imdb_votes</th>\n",
       "      <th>imdb_gross</th>\n",
       "      <th>director</th>\n",
       "      <th>stars</th>\n",
       "      <th>description</th>\n",
       "      <th>crit_consensus</th>\n",
       "      <th>tomato_meter</th>\n",
       "      <th>tomato_review</th>\n",
       "      <th>tom_aud_score</th>\n",
       "      <th>tom_ratings</th>\n",
       "      <th>entity</th>\n",
       "      <th>id</th>\n",
       "    </tr>\n",
       "  </thead>\n",
       "  <tbody>\n",
       "    <tr>\n",
       "      <th>1</th>\n",
       "      <td>Captain America</td>\n",
       "      <td>1944</td>\n",
       "      <td>Action, Adventure, Sci-Fi</td>\n",
       "      <td>244</td>\n",
       "      <td>Approved</td>\n",
       "      <td>5.5</td>\n",
       "      <td>844</td>\n",
       "      <td>0</td>\n",
       "      <td>Elmer Clifton</td>\n",
       "      <td>Elmer Clifton,Dick Purcell,Lorna Gray,Lionel A...</td>\n",
       "      <td>Superhero Captain America battles the evil for...</td>\n",
       "      <td>Find one of these old serials, friend. They're...</td>\n",
       "      <td>0</td>\n",
       "      <td>1</td>\n",
       "      <td>82</td>\n",
       "      <td>250</td>\n",
       "      <td>MARVEL</td>\n",
       "      <td>1</td>\n",
       "    </tr>\n",
       "    <tr>\n",
       "      <th>2</th>\n",
       "      <td>Howard the Duck</td>\n",
       "      <td>1986</td>\n",
       "      <td>Action, Adventure, Comedy</td>\n",
       "      <td>110</td>\n",
       "      <td>PG</td>\n",
       "      <td>4.7</td>\n",
       "      <td>44073</td>\n",
       "      <td>16300000</td>\n",
       "      <td>Willard Huyck</td>\n",
       "      <td>Willard Huyck,Lea Thompson,Jeffrey Jones,Tim R...</td>\n",
       "      <td>A sarcastic humanoid duck is pulled from his h...</td>\n",
       "      <td>While it has its moments, Howard the Duck suff...</td>\n",
       "      <td>13</td>\n",
       "      <td>78</td>\n",
       "      <td>38</td>\n",
       "      <td>50000</td>\n",
       "      <td>MARVEL</td>\n",
       "      <td>2</td>\n",
       "    </tr>\n",
       "    <tr>\n",
       "      <th>3</th>\n",
       "      <td>Blade</td>\n",
       "      <td>1998</td>\n",
       "      <td>Action, Horror, Sci-Fi</td>\n",
       "      <td>120</td>\n",
       "      <td>R</td>\n",
       "      <td>7.1</td>\n",
       "      <td>251243</td>\n",
       "      <td>70090000</td>\n",
       "      <td>Stephen Norrington</td>\n",
       "      <td>Stephen Norrington,Wesley Snipes,Stephen Dorff...</td>\n",
       "      <td>A half-vampire, half-mortal man becomes a prot...</td>\n",
       "      <td>Though some may find the plot a bit lacking, B...</td>\n",
       "      <td>55</td>\n",
       "      <td>103</td>\n",
       "      <td>78</td>\n",
       "      <td>250000</td>\n",
       "      <td>MARVEL</td>\n",
       "      <td>3</td>\n",
       "    </tr>\n",
       "    <tr>\n",
       "      <th>4</th>\n",
       "      <td>X-Men</td>\n",
       "      <td>2000</td>\n",
       "      <td>Action, Adventure, Sci-Fi</td>\n",
       "      <td>104</td>\n",
       "      <td>PG-13</td>\n",
       "      <td>7.4</td>\n",
       "      <td>580354</td>\n",
       "      <td>157300000</td>\n",
       "      <td>Bryan Singer</td>\n",
       "      <td>Bryan Singer,Patrick Stewart,Hugh Jackman,Ian ...</td>\n",
       "      <td>In a world where mutants (evolved super-powere...</td>\n",
       "      <td>Faithful to the comics and filled with action,...</td>\n",
       "      <td>82</td>\n",
       "      <td>174</td>\n",
       "      <td>83</td>\n",
       "      <td>250000</td>\n",
       "      <td>MARVEL</td>\n",
       "      <td>4</td>\n",
       "    </tr>\n",
       "    <tr>\n",
       "      <th>5</th>\n",
       "      <td>Blade II</td>\n",
       "      <td>2002</td>\n",
       "      <td>Action, Fantasy, Horror</td>\n",
       "      <td>117</td>\n",
       "      <td>R</td>\n",
       "      <td>6.7</td>\n",
       "      <td>203813</td>\n",
       "      <td>82350000</td>\n",
       "      <td>Guillermo del Toro</td>\n",
       "      <td>Guillermo del Toro,Wesley Snipes,Kris Kristoff...</td>\n",
       "      <td>Blade forms an uneasy alliance with the vampir...</td>\n",
       "      <td>Though Blade II offers more of what worked in ...</td>\n",
       "      <td>57</td>\n",
       "      <td>150</td>\n",
       "      <td>68</td>\n",
       "      <td>250000</td>\n",
       "      <td>MARVEL</td>\n",
       "      <td>5</td>\n",
       "    </tr>\n",
       "  </tbody>\n",
       "</table>\n",
       "</div>"
      ],
      "text/plain": [
       "             title  year                      genre  runtime mpa_rating  \\\n",
       "1  Captain America  1944  Action, Adventure, Sci-Fi      244   Approved   \n",
       "2  Howard the Duck  1986  Action, Adventure, Comedy      110         PG   \n",
       "3            Blade  1998     Action, Horror, Sci-Fi      120          R   \n",
       "4            X-Men  2000  Action, Adventure, Sci-Fi      104      PG-13   \n",
       "5         Blade II  2002    Action, Fantasy, Horror      117          R   \n",
       "\n",
       "   imdb_rating  imdb_votes  imdb_gross            director  \\\n",
       "1          5.5         844           0       Elmer Clifton   \n",
       "2          4.7       44073    16300000       Willard Huyck   \n",
       "3          7.1      251243    70090000  Stephen Norrington   \n",
       "4          7.4      580354   157300000        Bryan Singer   \n",
       "5          6.7      203813    82350000  Guillermo del Toro   \n",
       "\n",
       "                                               stars  \\\n",
       "1  Elmer Clifton,Dick Purcell,Lorna Gray,Lionel A...   \n",
       "2  Willard Huyck,Lea Thompson,Jeffrey Jones,Tim R...   \n",
       "3  Stephen Norrington,Wesley Snipes,Stephen Dorff...   \n",
       "4  Bryan Singer,Patrick Stewart,Hugh Jackman,Ian ...   \n",
       "5  Guillermo del Toro,Wesley Snipes,Kris Kristoff...   \n",
       "\n",
       "                                         description  \\\n",
       "1  Superhero Captain America battles the evil for...   \n",
       "2  A sarcastic humanoid duck is pulled from his h...   \n",
       "3  A half-vampire, half-mortal man becomes a prot...   \n",
       "4  In a world where mutants (evolved super-powere...   \n",
       "5  Blade forms an uneasy alliance with the vampir...   \n",
       "\n",
       "                                      crit_consensus  tomato_meter  \\\n",
       "1  Find one of these old serials, friend. They're...             0   \n",
       "2  While it has its moments, Howard the Duck suff...            13   \n",
       "3  Though some may find the plot a bit lacking, B...            55   \n",
       "4  Faithful to the comics and filled with action,...            82   \n",
       "5  Though Blade II offers more of what worked in ...            57   \n",
       "\n",
       "   tomato_review  tom_aud_score  tom_ratings  entity  id  \n",
       "1              1             82          250  MARVEL   1  \n",
       "2             78             38        50000  MARVEL   2  \n",
       "3            103             78       250000  MARVEL   3  \n",
       "4            174             83       250000  MARVEL   4  \n",
       "5            150             68       250000  MARVEL   5  "
      ]
     },
     "execution_count": 2,
     "metadata": {},
     "output_type": "execute_result"
    }
   ],
   "source": [
    "df = pd.read_csv('mdc.csv', index_col=0, encoding='latin-1')\n",
    "df.head()"
   ]
  },
  {
   "cell_type": "code",
   "execution_count": 3,
   "metadata": {},
   "outputs": [],
   "source": [
    "var = df[\"entity\"].values.reshape(-1, 1)\n",
    "\n",
    "enc = OneHotEncoder()\n",
    "trans = enc.fit_transform(var)\n",
    "df[[\"Marvel\", \"DC\"]] = pd.DataFrame(trans.toarray())"
   ]
  },
  {
   "cell_type": "code",
   "execution_count": 4,
   "metadata": {},
   "outputs": [
    {
     "data": {
      "text/html": [
       "<div>\n",
       "<style scoped>\n",
       "    .dataframe tbody tr th:only-of-type {\n",
       "        vertical-align: middle;\n",
       "    }\n",
       "\n",
       "    .dataframe tbody tr th {\n",
       "        vertical-align: top;\n",
       "    }\n",
       "\n",
       "    .dataframe thead th {\n",
       "        text-align: right;\n",
       "    }\n",
       "</style>\n",
       "<table border=\"1\" class=\"dataframe\">\n",
       "  <thead>\n",
       "    <tr style=\"text-align: right;\">\n",
       "      <th></th>\n",
       "      <th>title</th>\n",
       "      <th>year</th>\n",
       "      <th>genre</th>\n",
       "      <th>runtime</th>\n",
       "      <th>mpa_rating</th>\n",
       "      <th>imdb_rating</th>\n",
       "      <th>imdb_votes</th>\n",
       "      <th>imdb_gross</th>\n",
       "      <th>director</th>\n",
       "      <th>stars</th>\n",
       "      <th>description</th>\n",
       "      <th>crit_consensus</th>\n",
       "      <th>tomato_meter</th>\n",
       "      <th>tomato_review</th>\n",
       "      <th>tom_aud_score</th>\n",
       "      <th>tom_ratings</th>\n",
       "      <th>entity</th>\n",
       "      <th>id</th>\n",
       "      <th>Marvel</th>\n",
       "      <th>DC</th>\n",
       "    </tr>\n",
       "  </thead>\n",
       "  <tbody>\n",
       "    <tr>\n",
       "      <th>1</th>\n",
       "      <td>Captain America</td>\n",
       "      <td>1944</td>\n",
       "      <td>Action, Adventure, Sci-Fi</td>\n",
       "      <td>244</td>\n",
       "      <td>Approved</td>\n",
       "      <td>5.5</td>\n",
       "      <td>844</td>\n",
       "      <td>0</td>\n",
       "      <td>Elmer Clifton</td>\n",
       "      <td>Elmer Clifton,Dick Purcell,Lorna Gray,Lionel A...</td>\n",
       "      <td>Superhero Captain America battles the evil for...</td>\n",
       "      <td>Find one of these old serials, friend. They're...</td>\n",
       "      <td>0</td>\n",
       "      <td>1</td>\n",
       "      <td>82</td>\n",
       "      <td>250</td>\n",
       "      <td>MARVEL</td>\n",
       "      <td>1</td>\n",
       "      <td>0.0</td>\n",
       "      <td>1.0</td>\n",
       "    </tr>\n",
       "    <tr>\n",
       "      <th>2</th>\n",
       "      <td>Howard the Duck</td>\n",
       "      <td>1986</td>\n",
       "      <td>Action, Adventure, Comedy</td>\n",
       "      <td>110</td>\n",
       "      <td>PG</td>\n",
       "      <td>4.7</td>\n",
       "      <td>44073</td>\n",
       "      <td>16300000</td>\n",
       "      <td>Willard Huyck</td>\n",
       "      <td>Willard Huyck,Lea Thompson,Jeffrey Jones,Tim R...</td>\n",
       "      <td>A sarcastic humanoid duck is pulled from his h...</td>\n",
       "      <td>While it has its moments, Howard the Duck suff...</td>\n",
       "      <td>13</td>\n",
       "      <td>78</td>\n",
       "      <td>38</td>\n",
       "      <td>50000</td>\n",
       "      <td>MARVEL</td>\n",
       "      <td>2</td>\n",
       "      <td>0.0</td>\n",
       "      <td>1.0</td>\n",
       "    </tr>\n",
       "    <tr>\n",
       "      <th>3</th>\n",
       "      <td>Blade</td>\n",
       "      <td>1998</td>\n",
       "      <td>Action, Horror, Sci-Fi</td>\n",
       "      <td>120</td>\n",
       "      <td>R</td>\n",
       "      <td>7.1</td>\n",
       "      <td>251243</td>\n",
       "      <td>70090000</td>\n",
       "      <td>Stephen Norrington</td>\n",
       "      <td>Stephen Norrington,Wesley Snipes,Stephen Dorff...</td>\n",
       "      <td>A half-vampire, half-mortal man becomes a prot...</td>\n",
       "      <td>Though some may find the plot a bit lacking, B...</td>\n",
       "      <td>55</td>\n",
       "      <td>103</td>\n",
       "      <td>78</td>\n",
       "      <td>250000</td>\n",
       "      <td>MARVEL</td>\n",
       "      <td>3</td>\n",
       "      <td>0.0</td>\n",
       "      <td>1.0</td>\n",
       "    </tr>\n",
       "    <tr>\n",
       "      <th>4</th>\n",
       "      <td>X-Men</td>\n",
       "      <td>2000</td>\n",
       "      <td>Action, Adventure, Sci-Fi</td>\n",
       "      <td>104</td>\n",
       "      <td>PG-13</td>\n",
       "      <td>7.4</td>\n",
       "      <td>580354</td>\n",
       "      <td>157300000</td>\n",
       "      <td>Bryan Singer</td>\n",
       "      <td>Bryan Singer,Patrick Stewart,Hugh Jackman,Ian ...</td>\n",
       "      <td>In a world where mutants (evolved super-powere...</td>\n",
       "      <td>Faithful to the comics and filled with action,...</td>\n",
       "      <td>82</td>\n",
       "      <td>174</td>\n",
       "      <td>83</td>\n",
       "      <td>250000</td>\n",
       "      <td>MARVEL</td>\n",
       "      <td>4</td>\n",
       "      <td>0.0</td>\n",
       "      <td>1.0</td>\n",
       "    </tr>\n",
       "    <tr>\n",
       "      <th>5</th>\n",
       "      <td>Blade II</td>\n",
       "      <td>2002</td>\n",
       "      <td>Action, Fantasy, Horror</td>\n",
       "      <td>117</td>\n",
       "      <td>R</td>\n",
       "      <td>6.7</td>\n",
       "      <td>203813</td>\n",
       "      <td>82350000</td>\n",
       "      <td>Guillermo del Toro</td>\n",
       "      <td>Guillermo del Toro,Wesley Snipes,Kris Kristoff...</td>\n",
       "      <td>Blade forms an uneasy alliance with the vampir...</td>\n",
       "      <td>Though Blade II offers more of what worked in ...</td>\n",
       "      <td>57</td>\n",
       "      <td>150</td>\n",
       "      <td>68</td>\n",
       "      <td>250000</td>\n",
       "      <td>MARVEL</td>\n",
       "      <td>5</td>\n",
       "      <td>0.0</td>\n",
       "      <td>1.0</td>\n",
       "    </tr>\n",
       "  </tbody>\n",
       "</table>\n",
       "</div>"
      ],
      "text/plain": [
       "             title  year                      genre  runtime mpa_rating  \\\n",
       "1  Captain America  1944  Action, Adventure, Sci-Fi      244   Approved   \n",
       "2  Howard the Duck  1986  Action, Adventure, Comedy      110         PG   \n",
       "3            Blade  1998     Action, Horror, Sci-Fi      120          R   \n",
       "4            X-Men  2000  Action, Adventure, Sci-Fi      104      PG-13   \n",
       "5         Blade II  2002    Action, Fantasy, Horror      117          R   \n",
       "\n",
       "   imdb_rating  imdb_votes  imdb_gross            director  \\\n",
       "1          5.5         844           0       Elmer Clifton   \n",
       "2          4.7       44073    16300000       Willard Huyck   \n",
       "3          7.1      251243    70090000  Stephen Norrington   \n",
       "4          7.4      580354   157300000        Bryan Singer   \n",
       "5          6.7      203813    82350000  Guillermo del Toro   \n",
       "\n",
       "                                               stars  \\\n",
       "1  Elmer Clifton,Dick Purcell,Lorna Gray,Lionel A...   \n",
       "2  Willard Huyck,Lea Thompson,Jeffrey Jones,Tim R...   \n",
       "3  Stephen Norrington,Wesley Snipes,Stephen Dorff...   \n",
       "4  Bryan Singer,Patrick Stewart,Hugh Jackman,Ian ...   \n",
       "5  Guillermo del Toro,Wesley Snipes,Kris Kristoff...   \n",
       "\n",
       "                                         description  \\\n",
       "1  Superhero Captain America battles the evil for...   \n",
       "2  A sarcastic humanoid duck is pulled from his h...   \n",
       "3  A half-vampire, half-mortal man becomes a prot...   \n",
       "4  In a world where mutants (evolved super-powere...   \n",
       "5  Blade forms an uneasy alliance with the vampir...   \n",
       "\n",
       "                                      crit_consensus  tomato_meter  \\\n",
       "1  Find one of these old serials, friend. They're...             0   \n",
       "2  While it has its moments, Howard the Duck suff...            13   \n",
       "3  Though some may find the plot a bit lacking, B...            55   \n",
       "4  Faithful to the comics and filled with action,...            82   \n",
       "5  Though Blade II offers more of what worked in ...            57   \n",
       "\n",
       "   tomato_review  tom_aud_score  tom_ratings  entity  id  Marvel   DC  \n",
       "1              1             82          250  MARVEL   1     0.0  1.0  \n",
       "2             78             38        50000  MARVEL   2     0.0  1.0  \n",
       "3            103             78       250000  MARVEL   3     0.0  1.0  \n",
       "4            174             83       250000  MARVEL   4     0.0  1.0  \n",
       "5            150             68       250000  MARVEL   5     0.0  1.0  "
      ]
     },
     "execution_count": 4,
     "metadata": {},
     "output_type": "execute_result"
    }
   ],
   "source": [
    "df.head()"
   ]
  },
  {
   "cell_type": "markdown",
   "metadata": {},
   "source": [
    "# EJERCICIO 2"
   ]
  },
  {
   "cell_type": "markdown",
   "metadata": {},
   "source": [
    "Explicar los datos y las variables disponibles en el conjunto de datos seleccionado: (Obviar si se reutiliza el conjunto de las clases anteriores)\n",
    " - Esto se hace para que comprendais mejor los datos con los que estais trabajando.\n",
    " - Realizar un EDA sencillo para la variable dependiente y la variable independiente."
   ]
  },
  {
   "cell_type": "markdown",
   "metadata": {},
   "source": [
    "    - Lo obviamos porque está hecho en pairs anteriores."
   ]
  },
  {
   "cell_type": "markdown",
   "metadata": {},
   "source": [
    "# EJERCICIO 3"
   ]
  },
  {
   "cell_type": "markdown",
   "metadata": {},
   "source": [
    "Realiza el ajuste logístico utilizando diversas métricas y realiza una gráfica mostrando los resultados."
   ]
  },
  {
   "cell_type": "code",
   "execution_count": 6,
   "metadata": {},
   "outputs": [],
   "source": [
    "df_numericas = df.select_dtypes(include=np.number)"
   ]
  },
  {
   "cell_type": "code",
   "execution_count": 15,
   "metadata": {},
   "outputs": [],
   "source": [
    "df_numericas = df_numericas.dropna()"
   ]
  },
  {
   "cell_type": "code",
   "execution_count": 19,
   "metadata": {},
   "outputs": [
    {
     "name": "stdout",
     "output_type": "stream",
     "text": [
      "(71, 11) (71,)\n",
      "(18, 11) (18,)\n"
     ]
    }
   ],
   "source": [
    "x = df_numericas.drop(['Marvel'], axis = 1)\n",
    "y = df_numericas['Marvel']\n",
    "x_train, x_test, y_train, y_test = train_test_split(x, y, test_size = 0.2, random_state = 42)\n",
    "print(x_train.shape, y_train.shape)\n",
    "print(x_test.shape, y_test.shape)"
   ]
  },
  {
   "cell_type": "code",
   "execution_count": 25,
   "metadata": {},
   "outputs": [],
   "source": [
    "def get_VIF(dataframe, target):\n",
    "        X = add_constant(dataframe.loc[:, dataframe.columns != target])\n",
    "        seriesObject = pd.Series([variance_inflation_factor(X.values,i) for i in range(X.shape[1])] , index=X.columns,).sort_values(ascending= False)\n",
    "        return seriesObject"
   ]
  },
  {
   "cell_type": "code",
   "execution_count": 26,
   "metadata": {},
   "outputs": [
    {
     "name": "stderr",
     "output_type": "stream",
     "text": [
      "/Users/Almudena/opt/anaconda3/lib/python3.9/site-packages/statsmodels/tsa/tsatools.py:142: FutureWarning: In a future version of pandas all arguments of concat except for the argument 'objs' will be keyword-only\n",
      "  x = pd.concat(x[::order], 1)\n"
     ]
    },
    {
     "data": {
      "text/plain": [
       "const            98609.008544\n",
       "id                  14.126568\n",
       "imdb_rating         14.031799\n",
       "DC                  13.915996\n",
       "tomato_review        9.345506\n",
       "tom_aud_score        7.480127\n",
       "year                 5.068313\n",
       "tomato_meter         3.932753\n",
       "imdb_gross           3.880648\n",
       "imdb_votes           3.482336\n",
       "tom_ratings          2.051415\n",
       "runtime              1.620347\n",
       "dtype: float64"
      ]
     },
     "execution_count": 26,
     "metadata": {},
     "output_type": "execute_result"
    }
   ],
   "source": [
    "get_VIF(df_numericas, \"Marvel\")"
   ]
  },
  {
   "cell_type": "markdown",
   "metadata": {},
   "source": [
    "Consideramos que habría que buscar otra variable categórica que pueda ser respuesta porque las variables independientes no van a predecir si una película es de Marvel o DC. Dicha variable debería estar codificada en 0 y 1. Cogeríamos la columna 'tom_aud_score' y dividiríamos en dos partes: por encima de 70 sería muy buena, y por debajo sería mala.\n",
    "Creemos que a partir de entonces sería más fácil predecir si una película es de Marvel o DC."
   ]
  },
  {
   "cell_type": "code",
   "execution_count": 20,
   "metadata": {},
   "outputs": [
    {
     "name": "stdout",
     "output_type": "stream",
     "text": [
      "Para el conjunto train:---------------\n",
      "El valor de accuracy es  0.6619718309859155\n",
      "Para el conjunto test:---------------\n",
      "El valor de accuracy es  0.6666666666666666\n"
     ]
    }
   ],
   "source": [
    "# definimos la regresión logistica\n",
    "\n",
    "log_reg = LogisticRegression(n_jobs=-1, max_iter = 1000)\n",
    "# ajustamos el modelo\n",
    "log_reg.fit(x_train,y_train)\n",
    "# obtenemos las predicciones para el conjunto de entrenamiento\n",
    "y_pred_train = log_reg.predict(x_train)\n",
    "# obtenemos las predicciones para el conjunto de test\n",
    "y_pred_test = log_reg.predict(x_test)\n",
    "\n",
    "\n",
    "train_score_lr = accuracy_score(y_train, y_pred_train)\n",
    "print('Para el conjunto train:---------------')\n",
    "print('El valor de accuracy es ',train_score_lr)\n",
    "\n",
    "print('Para el conjunto test:---------------')\n",
    "test_score_lr = accuracy_score(y_test, y_pred_test)\n",
    "print('El valor de accuracy es ',test_score_lr)"
   ]
  },
  {
   "cell_type": "code",
   "execution_count": 23,
   "metadata": {},
   "outputs": [
    {
     "data": {
      "image/png": "[encoded data removed]",
      "text/plain": [
       "<Figure size 864x576 with 2 Axes>"
      ]
     },
     "metadata": {
      "needs_background": "light"
     },
     "output_type": "display_data"
    }
   ],
   "source": [
    "mat_lr = confusion_matrix(y_test, y_pred_test)\n",
    "\n",
    "plt.figure(figsize = (12, 8))\n",
    "sns.heatmap(mat_lr, square=True, annot=True, fmt=\"d\")\n",
    "\n",
    "plt.xlabel('predicted value')\n",
    "plt.ylabel('true value')\n",
    "plt.show()"
   ]
  }
 ],
 "metadata": {
  "interpreter": {
   "hash": "9df72549cec875d35faaa50875d444b10c11452b268975a17c9dc6870f43870f"
  },
  "kernelspec": {
   "display_name": "Python 3.9.7 ('base')",
   "language": "python",
   "name": "python3"
  },
  "language_info": {
   "codemirror_mode": {
    "name": "ipython",
    "version": 3
   },
   "file_extension": ".py",
   "mimetype": "text/x-python",
   "name": "python",
   "nbconvert_exporter": "python",
   "pygments_lexer": "ipython3",
   "version": "3.9.7"
  },
  "orig_nbformat": 4
 },
 "nbformat": 4,
 "nbformat_minor": 2
}
