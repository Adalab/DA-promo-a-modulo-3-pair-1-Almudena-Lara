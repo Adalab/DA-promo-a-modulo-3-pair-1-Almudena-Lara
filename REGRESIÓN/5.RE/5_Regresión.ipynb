{
 "cells": [
  {
   "cell_type": "markdown",
   "metadata": {},
   "source": [
    "### Módulo 3 | PAIR PROGRAMMING | Regresión 5 | 31/05/22 | Almudena & Lara"
   ]
  },
  {
   "cell_type": "code",
   "execution_count": 26,
   "metadata": {},
   "outputs": [],
   "source": [
    "import pandas as pd\n",
    "import seaborn as sns\n",
    "import matplotlib.pyplot as plt\n",
    "import numpy as np\n",
    "\n",
    "from statsmodels.multivariate.manova import MANOVA\n",
    "from sklearn.preprocessing import OneHotEncoder\n",
    "from sklearn.model_selection import train_test_split\n",
    "from sklearn.linear_model import LogisticRegression\n",
    "from sklearn.metrics import accuracy_score \n",
    "from sklearn.metrics import confusion_matrix\n",
    "import statsmodels.api as sm\n",
    "from statsmodels.tools.tools import add_constant\n",
    "from statsmodels.stats.outliers_influence import variance_inflation_factor\n",
    "from sklearn.metrics import roc_curve,roc_auc_score, classification_report\n",
    "from sklearn.metrics import accuracy_score \n"
   ]
  },
  {
   "cell_type": "markdown",
   "metadata": {},
   "source": [
    "# EJERCICIO 1  "
   ]
  },
  {
   "cell_type": "markdown",
   "metadata": {},
   "source": [
    "Buscar un conjunto de datos a analizar: (Obviar si se reutiliza el conjunto de las clases anteriores)\n",
    " - Se recomienda que el conjunto de datos a analizar tenga variables numéricas y categóricas, primando que haya más de una variable de tipo numérico. \n",
    " Ya que tambien se utilizarán serán útiles a la hora de realizar predicciones en las clases de regresión lineal múltiple. \n",
    " Así mismo se recomienda que los datasets esten ligeramente limpios para facilidar los análisis."
   ]
  },
  {
   "cell_type": "code",
   "execution_count": 3,
   "metadata": {},
   "outputs": [
    {
     "data": {
      "text/html": [
       "<div>\n",
       "<style scoped>\n",
       "    .dataframe tbody tr th:only-of-type {\n",
       "        vertical-align: middle;\n",
       "    }\n",
       "\n",
       "    .dataframe tbody tr th {\n",
       "        vertical-align: top;\n",
       "    }\n",
       "\n",
       "    .dataframe thead th {\n",
       "        text-align: right;\n",
       "    }\n",
       "</style>\n",
       "<table border=\"1\" class=\"dataframe\">\n",
       "  <thead>\n",
       "    <tr style=\"text-align: right;\">\n",
       "      <th></th>\n",
       "      <th>title</th>\n",
       "      <th>year</th>\n",
       "      <th>genre</th>\n",
       "      <th>runtime</th>\n",
       "      <th>mpa_rating</th>\n",
       "      <th>imdb_rating</th>\n",
       "      <th>imdb_votes</th>\n",
       "      <th>imdb_gross</th>\n",
       "      <th>director</th>\n",
       "      <th>stars</th>\n",
       "      <th>description</th>\n",
       "      <th>crit_consensus</th>\n",
       "      <th>tomato_meter</th>\n",
       "      <th>tomato_review</th>\n",
       "      <th>tom_aud_score</th>\n",
       "      <th>tom_ratings</th>\n",
       "      <th>entity</th>\n",
       "      <th>id</th>\n",
       "    </tr>\n",
       "  </thead>\n",
       "  <tbody>\n",
       "    <tr>\n",
       "      <th>1</th>\n",
       "      <td>Captain America</td>\n",
       "      <td>1944</td>\n",
       "      <td>Action, Adventure, Sci-Fi</td>\n",
       "      <td>244</td>\n",
       "      <td>Approved</td>\n",
       "      <td>5.5</td>\n",
       "      <td>844</td>\n",
       "      <td>0</td>\n",
       "      <td>Elmer Clifton</td>\n",
       "      <td>Elmer Clifton,Dick Purcell,Lorna Gray,Lionel A...</td>\n",
       "      <td>Superhero Captain America battles the evil for...</td>\n",
       "      <td>Find one of these old serials, friend. They're...</td>\n",
       "      <td>0</td>\n",
       "      <td>1</td>\n",
       "      <td>82</td>\n",
       "      <td>250</td>\n",
       "      <td>MARVEL</td>\n",
       "      <td>1</td>\n",
       "    </tr>\n",
       "    <tr>\n",
       "      <th>2</th>\n",
       "      <td>Howard the Duck</td>\n",
       "      <td>1986</td>\n",
       "      <td>Action, Adventure, Comedy</td>\n",
       "      <td>110</td>\n",
       "      <td>PG</td>\n",
       "      <td>4.7</td>\n",
       "      <td>44073</td>\n",
       "      <td>16300000</td>\n",
       "      <td>Willard Huyck</td>\n",
       "      <td>Willard Huyck,Lea Thompson,Jeffrey Jones,Tim R...</td>\n",
       "      <td>A sarcastic humanoid duck is pulled from his h...</td>\n",
       "      <td>While it has its moments, Howard the Duck suff...</td>\n",
       "      <td>13</td>\n",
       "      <td>78</td>\n",
       "      <td>38</td>\n",
       "      <td>50000</td>\n",
       "      <td>MARVEL</td>\n",
       "      <td>2</td>\n",
       "    </tr>\n",
       "  </tbody>\n",
       "</table>\n",
       "</div>"
      ],
      "text/plain": [
       "             title  year                      genre  runtime mpa_rating  \\\n",
       "1  Captain America  1944  Action, Adventure, Sci-Fi      244   Approved   \n",
       "2  Howard the Duck  1986  Action, Adventure, Comedy      110         PG   \n",
       "\n",
       "   imdb_rating  imdb_votes  imdb_gross       director  \\\n",
       "1          5.5         844           0  Elmer Clifton   \n",
       "2          4.7       44073    16300000  Willard Huyck   \n",
       "\n",
       "                                               stars  \\\n",
       "1  Elmer Clifton,Dick Purcell,Lorna Gray,Lionel A...   \n",
       "2  Willard Huyck,Lea Thompson,Jeffrey Jones,Tim R...   \n",
       "\n",
       "                                         description  \\\n",
       "1  Superhero Captain America battles the evil for...   \n",
       "2  A sarcastic humanoid duck is pulled from his h...   \n",
       "\n",
       "                                      crit_consensus  tomato_meter  \\\n",
       "1  Find one of these old serials, friend. They're...             0   \n",
       "2  While it has its moments, Howard the Duck suff...            13   \n",
       "\n",
       "   tomato_review  tom_aud_score  tom_ratings  entity  id  \n",
       "1              1             82          250  MARVEL   1  \n",
       "2             78             38        50000  MARVEL   2  "
      ]
     },
     "execution_count": 3,
     "metadata": {},
     "output_type": "execute_result"
    }
   ],
   "source": [
    "df = pd.read_csv('mdc.csv', index_col=0, encoding='latin-1')\n",
    "df.head(2)"
   ]
  },
  {
   "cell_type": "code",
   "execution_count": 4,
   "metadata": {},
   "outputs": [
    {
     "data": {
      "text/html": [
       "<div>\n",
       "<style scoped>\n",
       "    .dataframe tbody tr th:only-of-type {\n",
       "        vertical-align: middle;\n",
       "    }\n",
       "\n",
       "    .dataframe tbody tr th {\n",
       "        vertical-align: top;\n",
       "    }\n",
       "\n",
       "    .dataframe thead th {\n",
       "        text-align: right;\n",
       "    }\n",
       "</style>\n",
       "<table border=\"1\" class=\"dataframe\">\n",
       "  <thead>\n",
       "    <tr style=\"text-align: right;\">\n",
       "      <th></th>\n",
       "      <th>title</th>\n",
       "      <th>year</th>\n",
       "      <th>genre</th>\n",
       "      <th>runtime</th>\n",
       "      <th>mpa_rating</th>\n",
       "      <th>imdb_rating</th>\n",
       "      <th>imdb_votes</th>\n",
       "      <th>imdb_gross</th>\n",
       "      <th>director</th>\n",
       "      <th>stars</th>\n",
       "      <th>description</th>\n",
       "      <th>crit_consensus</th>\n",
       "      <th>tomato_meter</th>\n",
       "      <th>tomato_review</th>\n",
       "      <th>tom_aud_score</th>\n",
       "      <th>tom_ratings</th>\n",
       "      <th>entity</th>\n",
       "      <th>id</th>\n",
       "      <th>Marvel</th>\n",
       "      <th>DC</th>\n",
       "    </tr>\n",
       "  </thead>\n",
       "  <tbody>\n",
       "    <tr>\n",
       "      <th>1</th>\n",
       "      <td>Captain America</td>\n",
       "      <td>1944</td>\n",
       "      <td>Action, Adventure, Sci-Fi</td>\n",
       "      <td>244</td>\n",
       "      <td>Approved</td>\n",
       "      <td>5.5</td>\n",
       "      <td>844</td>\n",
       "      <td>0</td>\n",
       "      <td>Elmer Clifton</td>\n",
       "      <td>Elmer Clifton,Dick Purcell,Lorna Gray,Lionel A...</td>\n",
       "      <td>Superhero Captain America battles the evil for...</td>\n",
       "      <td>Find one of these old serials, friend. They're...</td>\n",
       "      <td>0</td>\n",
       "      <td>1</td>\n",
       "      <td>82</td>\n",
       "      <td>250</td>\n",
       "      <td>MARVEL</td>\n",
       "      <td>1</td>\n",
       "      <td>0.0</td>\n",
       "      <td>1.0</td>\n",
       "    </tr>\n",
       "    <tr>\n",
       "      <th>2</th>\n",
       "      <td>Howard the Duck</td>\n",
       "      <td>1986</td>\n",
       "      <td>Action, Adventure, Comedy</td>\n",
       "      <td>110</td>\n",
       "      <td>PG</td>\n",
       "      <td>4.7</td>\n",
       "      <td>44073</td>\n",
       "      <td>16300000</td>\n",
       "      <td>Willard Huyck</td>\n",
       "      <td>Willard Huyck,Lea Thompson,Jeffrey Jones,Tim R...</td>\n",
       "      <td>A sarcastic humanoid duck is pulled from his h...</td>\n",
       "      <td>While it has its moments, Howard the Duck suff...</td>\n",
       "      <td>13</td>\n",
       "      <td>78</td>\n",
       "      <td>38</td>\n",
       "      <td>50000</td>\n",
       "      <td>MARVEL</td>\n",
       "      <td>2</td>\n",
       "      <td>0.0</td>\n",
       "      <td>1.0</td>\n",
       "    </tr>\n",
       "  </tbody>\n",
       "</table>\n",
       "</div>"
      ],
      "text/plain": [
       "             title  year                      genre  runtime mpa_rating  \\\n",
       "1  Captain America  1944  Action, Adventure, Sci-Fi      244   Approved   \n",
       "2  Howard the Duck  1986  Action, Adventure, Comedy      110         PG   \n",
       "\n",
       "   imdb_rating  imdb_votes  imdb_gross       director  \\\n",
       "1          5.5         844           0  Elmer Clifton   \n",
       "2          4.7       44073    16300000  Willard Huyck   \n",
       "\n",
       "                                               stars  \\\n",
       "1  Elmer Clifton,Dick Purcell,Lorna Gray,Lionel A...   \n",
       "2  Willard Huyck,Lea Thompson,Jeffrey Jones,Tim R...   \n",
       "\n",
       "                                         description  \\\n",
       "1  Superhero Captain America battles the evil for...   \n",
       "2  A sarcastic humanoid duck is pulled from his h...   \n",
       "\n",
       "                                      crit_consensus  tomato_meter  \\\n",
       "1  Find one of these old serials, friend. They're...             0   \n",
       "2  While it has its moments, Howard the Duck suff...            13   \n",
       "\n",
       "   tomato_review  tom_aud_score  tom_ratings  entity  id  Marvel   DC  \n",
       "1              1             82          250  MARVEL   1     0.0  1.0  \n",
       "2             78             38        50000  MARVEL   2     0.0  1.0  "
      ]
     },
     "execution_count": 4,
     "metadata": {},
     "output_type": "execute_result"
    }
   ],
   "source": [
    "var = df[\"entity\"].values.reshape(-1, 1)\n",
    "\n",
    "enc = OneHotEncoder()\n",
    "trans = enc.fit_transform(var)\n",
    "df[[\"Marvel\", \"DC\"]] = pd.DataFrame(trans.toarray())\n",
    "df.head(2)"
   ]
  },
  {
   "cell_type": "markdown",
   "metadata": {},
   "source": [
    "# EJERCICIO 2"
   ]
  },
  {
   "cell_type": "markdown",
   "metadata": {},
   "source": [
    "Explicar los datos y las variables disponibles en el conjunto de datos seleccionado: (Obviar si se reutiliza el conjunto de las clases anteriores)\n",
    " - Esto se hace para que comprendais mejor los datos con los que estais trabajando.\n",
    " - Realizar un EDA sencillo para la variable dependiente y la variable independiente."
   ]
  },
  {
   "cell_type": "markdown",
   "metadata": {},
   "source": [
    "    - Lo obviamos porque está hecho en pairs anteriores."
   ]
  },
  {
   "cell_type": "markdown",
   "metadata": {},
   "source": [
    "# EJERCICIO 3"
   ]
  },
  {
   "cell_type": "markdown",
   "metadata": {},
   "source": [
    "Realiza el ajuste logístico utilizando diversas métricas y realiza una gráfica mostrando los resultados."
   ]
  },
  {
   "cell_type": "markdown",
   "metadata": {},
   "source": [
    "- <font color = orange> Para este ejercicio cogemos la columna \"Marvel\" pues está codificada on 0 y 1, donde 0 es que la película NO es de Marvel y 1 que sí.\n",
    "- Aunque, posiblemente, predecir - en función de diferentes variables (duración, votos, etc.) si una película es o no de una productora no parece muy útil, nos parece curioso ver si las predicciones coindicen con la realidad o si existe algún patrón para esas pelis que pueda diferenciarlas de las de DC."
   ]
  },
  {
   "cell_type": "markdown",
   "metadata": {},
   "source": [
    "<font color = orange> Hacemos un dataset con las variables numéricas (pues no todos nuestros datos están codificados) para realizar el modelo de regresión. "
   ]
  },
  {
   "cell_type": "code",
   "execution_count": 9,
   "metadata": {},
   "outputs": [],
   "source": [
    "df_numericas = df.select_dtypes(include=np.number)"
   ]
  },
  {
   "cell_type": "markdown",
   "metadata": {},
   "source": [
    "<font color = orange> Como observamos antes que en las columnas Marvel y DC aparecen sendos registros nulos que afectan a la fórmula de la regresión, aplicamos un .dropna()"
   ]
  },
  {
   "cell_type": "code",
   "execution_count": 10,
   "metadata": {},
   "outputs": [],
   "source": [
    "df_numericas = df_numericas.dropna()"
   ]
  },
  {
   "cell_type": "markdown",
   "metadata": {},
   "source": [
    "- <font color = orange > Seleccionamos nuestra variable respuesta que, como decíamos, es binaria, y el resto serán variables independientes o - con suerte - explicativas. \n",
    "- Como pensamos que algunas variables son colineales, probamos diferentes VIF antes de aplicar el modelo:"
   ]
  },
  {
   "cell_type": "code",
   "execution_count": 11,
   "metadata": {},
   "outputs": [],
   "source": [
    "def get_VIF(dataframe, target):\n",
    "        X = add_constant(dataframe.loc[:, dataframe.columns != target])\n",
    "        seriesObject = pd.Series([variance_inflation_factor(X.values,i) for i in range(X.shape[1])] , index=X.columns,).sort_values(ascending= False)\n",
    "        return seriesObject"
   ]
  },
  {
   "cell_type": "code",
   "execution_count": 12,
   "metadata": {},
   "outputs": [
    {
     "data": {
      "text/plain": [
       "const            98609.008544\n",
       "id                  14.126568\n",
       "imdb_rating         14.031799\n",
       "DC                  13.915996\n",
       "tomato_review        9.345506\n",
       "tom_aud_score        7.480127\n",
       "year                 5.068313\n",
       "tomato_meter         3.932753\n",
       "imdb_gross           3.880648\n",
       "imdb_votes           3.482336\n",
       "tom_ratings          2.051415\n",
       "runtime              1.620347\n",
       "dtype: float64"
      ]
     },
     "execution_count": 12,
     "metadata": {},
     "output_type": "execute_result"
    }
   ],
   "source": [
    "get_VIF(df_numericas, \"Marvel\")"
   ]
  },
  {
   "cell_type": "markdown",
   "metadata": {},
   "source": [
    "- <font color = orange> Probamos diferentes columnas y combinaciones (las reflejamos con prints para no ocupar demasiadas celdas), y escogemos la última (en celda propia):"
   ]
  },
  {
   "cell_type": "code",
   "execution_count": 19,
   "metadata": {},
   "outputs": [
    {
     "name": "stdout",
     "output_type": "stream",
     "text": [
      "const            92779.303659\n",
      "imdb_rating         14.011036\n",
      "tomato_review        8.248489\n",
      "tom_aud_score        7.443544\n",
      "year                 4.688239\n",
      "tomato_meter         3.929801\n",
      "imdb_gross           3.814546\n",
      "imdb_votes           3.460805\n",
      "tom_ratings          1.651883\n",
      "runtime              1.620232\n",
      "DC                   1.257359\n",
      "dtype: float64\n",
      "const            97459.662742\n",
      "id                  14.105665\n",
      "DC                  13.914980\n",
      "tomato_review        8.982583\n",
      "year                 5.037661\n",
      "imdb_gross           3.880152\n",
      "tom_aud_score        3.410071\n",
      "imdb_votes           3.091316\n",
      "tomato_meter         3.033135\n",
      "tom_ratings          1.959139\n",
      "runtime              1.618121\n",
      "dtype: float64\n",
      "const            90568.855104\n",
      "imdb_rating         14.030774\n",
      "tomato_review        8.415427\n",
      "tom_aud_score        7.422075\n",
      "year                 4.568148\n",
      "tomato_meter         3.919822\n",
      "imdb_gross           3.769430\n",
      "imdb_votes           3.401855\n",
      "tom_ratings          1.768898\n",
      "runtime              1.620345\n",
      "id                   1.276385\n",
      "dtype: float64\n",
      "const            89638.665875\n",
      "imdb_rating         13.888041\n",
      "tomato_review        8.235284\n",
      "tom_aud_score        7.405644\n",
      "year                 4.530896\n",
      "tomato_meter         3.887407\n",
      "imdb_gross           3.728292\n",
      "imdb_votes           3.232122\n",
      "runtime              1.618704\n",
      "tom_ratings          1.595569\n",
      "dtype: float64\n",
      "const            89366.879657\n",
      "tomato_review        8.062340\n",
      "year                 4.535341\n",
      "imdb_gross           3.768799\n",
      "tom_aud_score        3.360026\n",
      "tomato_meter         3.018294\n",
      "imdb_votes           3.007768\n",
      "tom_ratings          1.673835\n",
      "runtime              1.618117\n",
      "id                   1.263401\n",
      "dtype: float64\n"
     ]
    }
   ],
   "source": [
    "print(get_VIF(df_numericas.drop(columns = \"id\"), \"Marvel\"))\n",
    "print(get_VIF(df_numericas.drop(columns = \"imdb_rating\"), \"Marvel\"))\n",
    "print(get_VIF(df_numericas.drop(columns = \"DC\"), \"Marvel\"))\n",
    "print(get_VIF(df_numericas.drop(columns = [\"id\", \"DC\"]), \"Marvel\"))\n",
    "print(get_VIF(df_numericas.drop(columns = [\"imdb_rating\", \"DC\"]), \"Marvel\"))"
   ]
  },
  {
   "cell_type": "code",
   "execution_count": 20,
   "metadata": {},
   "outputs": [
    {
     "data": {
      "text/plain": [
       "const            29610.232784\n",
       "tom_aud_score        3.068287\n",
       "imdb_gross           3.027042\n",
       "tomato_meter         3.014018\n",
       "imdb_votes           3.006623\n",
       "runtime              1.498045\n",
       "year                 1.480776\n",
       "tom_ratings          1.465911\n",
       "id                   1.242367\n",
       "dtype: float64"
      ]
     },
     "execution_count": 20,
     "metadata": {},
     "output_type": "execute_result"
    }
   ],
   "source": [
    "get_VIF(df_numericas.drop(columns = [\"imdb_rating\", \"DC\", \"tomato_review\"]), \"Marvel\")"
   ]
  },
  {
   "cell_type": "markdown",
   "metadata": {},
   "source": [
    "<font color = orange > Ahora, habiendo reducido la colinealidad de nuestras variables al dejar de lado las columnas: imdb_rating, tomato_review y DC, hacemos los grupos de entrenamiento y test para nuestras variables predictoras y la variable respuesta:"
   ]
  },
  {
   "cell_type": "code",
   "execution_count": 21,
   "metadata": {},
   "outputs": [
    {
     "name": "stdout",
     "output_type": "stream",
     "text": [
      "(71, 9) (71,)\n",
      "(18, 9) (18,)\n"
     ]
    }
   ],
   "source": [
    "x = df_numericas.drop(['Marvel', \"DC\", \"imdb_rating\"], axis = 1)\n",
    "y = df_numericas['Marvel']\n",
    "x_train, x_test, y_train, y_test = train_test_split(x, y, test_size = 0.2, random_state = 42)\n",
    "print(x_train.shape, y_train.shape)\n",
    "print(x_test.shape, y_test.shape)"
   ]
  },
  {
   "cell_type": "markdown",
   "metadata": {},
   "source": [
    "<font color = orange > Realizamos la regresión logística:"
   ]
  },
  {
   "cell_type": "code",
   "execution_count": 22,
   "metadata": {},
   "outputs": [
    {
     "name": "stdout",
     "output_type": "stream",
     "text": [
      "Para el conjunto train:---------------\n",
      "El valor de accuracy es  0.6619718309859155\n",
      "Para el conjunto test:---------------\n",
      "El valor de accuracy es  0.6666666666666666\n"
     ]
    }
   ],
   "source": [
    "# Definimos la regresión logistica\n",
    "log_reg = LogisticRegression(n_jobs=-1, max_iter = 1000)\n",
    "\n",
    "# ajustamos el modelo\n",
    "log_reg.fit(x_train,y_train)\n",
    "\n",
    "# obtenemos las predicciones para el conjunto de entrenamiento\n",
    "y_pred_train = log_reg.predict(x_train)\n",
    "\n",
    "# obtenemos las predicciones para el conjunto de test\n",
    "y_pred_test = log_reg.predict(x_test)\n",
    "\n",
    "train_score_lr = accuracy_score(y_train, y_pred_train)\n",
    "print('Para el conjunto train:---------------')\n",
    "print('El valor de accuracy es ',train_score_lr)\n",
    "\n",
    "print('Para el conjunto test:---------------')\n",
    "test_score_lr = accuracy_score(y_test, y_pred_test)\n",
    "print('El valor de accuracy es ',test_score_lr)"
   ]
  },
  {
   "cell_type": "markdown",
   "metadata": {},
   "source": [
    "<font color = orange> Y visualizamos la matriz de confusión, donde observamos que solo un 12 % de los datos predichos han sido correctos. Por lo que entendemos que nuestro modelo de regresión podría ser mejorado o, más concretamente, dado el tema que estamos estudiando, que las variables independientes no son explicativas para la variable respuesta. "
   ]
  },
  {
   "cell_type": "code",
   "execution_count": 25,
   "metadata": {},
   "outputs": [
    {
     "data": {
      "image/png": "[encoded data removed]",
      "text/plain": [
       "<Figure size 864x576 with 2 Axes>"
      ]
     },
     "metadata": {
      "needs_background": "light"
     },
     "output_type": "display_data"
    }
   ],
   "source": [
    "mat_lr = confusion_matrix(y_test, y_pred_test)\n",
    "\n",
    "plt.figure(figsize = (12, 8))\n",
    "sns.heatmap(mat_lr, square=True, annot=True, fmt=\"d\")\n",
    "\n",
    "plt.xlabel('Valor predicho')\n",
    "plt.ylabel(\"Valor verdadero\")\n",
    "plt.show()"
   ]
  },
  {
   "cell_type": "markdown",
   "metadata": {},
   "source": [
    "<font color = orange> \n",
    "Incluimos diferentes métricas que nos gustaría comentar en la evaluación."
   ]
  },
  {
   "cell_type": "code",
   "execution_count": 27,
   "metadata": {},
   "outputs": [
    {
     "name": "stdout",
     "output_type": "stream",
     "text": [
      "              precision    recall  f1-score   support\n",
      "\n",
      "         0.0       0.71      0.92      0.80        13\n",
      "         1.0       0.00      0.00      0.00         5\n",
      "\n",
      "    accuracy                           0.67        18\n",
      "   macro avg       0.35      0.46      0.40        18\n",
      "weighted avg       0.51      0.67      0.58        18\n",
      "\n"
     ]
    }
   ],
   "source": [
    "print(classification_report(y_test, y_pred_test))"
   ]
  },
  {
   "cell_type": "code",
   "execution_count": 28,
   "metadata": {},
   "outputs": [
    {
     "name": "stdout",
     "output_type": "stream",
     "text": [
      "The score AUC is: 0.46153846153846156\n"
     ]
    },
    {
     "data": {
      "image/png": "[encoded data removed]",
      "text/plain": [
       "<Figure size 360x360 with 1 Axes>"
      ]
     },
     "metadata": {
      "needs_background": "light"
     },
     "output_type": "display_data"
    }
   ],
   "source": [
    "fpr_log, tpr_log, _ = roc_curve(y_test, y_pred_test)\n",
    "auc_LR=roc_auc_score(y_test, y_pred_test)\n",
    "print('The score AUC is:',auc_LR)\n",
    "\n",
    "plt.figure(figsize=(5,5))\n",
    "\n",
    "plt.plot([0, 1], [0, 1], 'k--')\n",
    "\n",
    "plt.plot(fpr_log, tpr_log, label='LR')\n",
    "\n",
    "plt.xlabel('False positive rate')\n",
    "plt.ylabel('True positive rate')\n",
    "plt.title('ROC curve')\n",
    "plt.legend(loc='best')\n",
    "plt.grid()\n",
    "plt.show()"
   ]
  }
 ],
 "metadata": {
  "interpreter": {
   "hash": "0620710c65b0f5ccc651a2aa8870ae0eb4c70492424a8d7866846658189426a3"
  },
  "kernelspec": {
   "display_name": "Python 3.9.7 ('base')",
   "language": "python",
   "name": "python3"
  },
  "language_info": {
   "codemirror_mode": {
    "name": "ipython",
    "version": 3
   },
   "file_extension": ".py",
   "mimetype": "text/x-python",
   "name": "python",
   "nbconvert_exporter": "python",
   "pygments_lexer": "ipython3",
   "version": "3.9.7"
  },
  "orig_nbformat": 4
 },
 "nbformat": 4,
 "nbformat_minor": 2
}
