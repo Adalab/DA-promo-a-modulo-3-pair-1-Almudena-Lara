{
 "cells": [
  {
   "cell_type": "markdown",
   "metadata": {},
   "source": [
    "### Módulo 3 | PAIR PROGRAMMING | Regresión 1 | 25/05/22 | Almudena & Lara"
   ]
  },
  {
   "cell_type": "markdown",
   "metadata": {},
   "source": [
    "- Empezamos una nueva lección, y este es el momento de poner en práctica los conocimientos adquiridos sobre la Regresión Lineal Simple I. Para ello os vamos a pedir que por vuestra cuenta busqueis un dataset que os guste, por ejemplo de Kaggle o de donde queráis extraerlo.\n",
    "- De forma que vamos a probar a realizar ajustes lineales con el fin de predecir alguna de sus variables Para los ejercicios de _pair programming** de Regresión lineal I, II y Regresión Lineal múltiple I y II usaremos el **dataframe_** que se tome para el desarrollo de este ejercicio de pair programming**.\n",
    "- Se ruega a la hora de realizar la entrega que incluyais el conjunto de datos que hayais decidido emplear para estos ejercicio"
   ]
  },
  {
   "cell_type": "code",
   "execution_count": 22,
   "metadata": {},
   "outputs": [],
   "source": [
    "import pandas as pd \n",
    "import numpy as np\n",
    "import seaborn as sns\n",
    "import matplotlib.pyplot as plt\n",
    "import sidetable as stb\n",
    "from sklearn.model_selection import train_test_split\n",
    "from sklearn.linear_model import LinearRegression"
   ]
  },
  {
   "cell_type": "markdown",
   "metadata": {},
   "source": [
    "# EJERCICIO 1\n",
    "Buscar un conjunto de datos a analizar:\n",
    "- Se recomienda que el conjunto de datos a analizar tenga variables numéricas y categóricas, primando que haya más de una variable de tipo numérico.\n",
    "- Ya que tambien se utilizarán serán útiles a la hora de realizar predicciones en las clases de regresión lineal múltiple. \n",
    "- Asimismo, se recomienda que los datasets esten ligeramente limpios para facilidar los análisis.\n",
    "\n",
    "\n"
   ]
  },
  {
   "cell_type": "markdown",
   "metadata": {},
   "source": [
    "> <font color=violet> 👩🏽‍🦱👩🏽‍🦱💬\n",
    "> - Escogemos un Dataset de Kaggle que recoge información sobre películas de Marvel y DC.\n",
    "> - Toda la información del dataset en este [Link](https://www.kaggle.com/datasets/jcraggy/marvel-vs-dc-imdb-rotten-tomatoes/ \"Title\")"
   ]
  },
  {
   "cell_type": "code",
   "execution_count": 23,
   "metadata": {},
   "outputs": [
    {
     "data": {
      "text/html": [
       "<div>\n",
       "<style scoped>\n",
       "    .dataframe tbody tr th:only-of-type {\n",
       "        vertical-align: middle;\n",
       "    }\n",
       "\n",
       "    .dataframe tbody tr th {\n",
       "        vertical-align: top;\n",
       "    }\n",
       "\n",
       "    .dataframe thead th {\n",
       "        text-align: right;\n",
       "    }\n",
       "</style>\n",
       "<table border=\"1\" class=\"dataframe\">\n",
       "  <thead>\n",
       "    <tr style=\"text-align: right;\">\n",
       "      <th></th>\n",
       "      <th>title</th>\n",
       "      <th>year</th>\n",
       "      <th>genre</th>\n",
       "      <th>runtime</th>\n",
       "      <th>mpa_rating</th>\n",
       "      <th>imdb_rating</th>\n",
       "      <th>imdb_votes</th>\n",
       "      <th>imdb_gross</th>\n",
       "      <th>director</th>\n",
       "      <th>stars</th>\n",
       "      <th>description</th>\n",
       "      <th>crit_consensus</th>\n",
       "      <th>tomato_meter</th>\n",
       "      <th>tomato_review</th>\n",
       "      <th>tom_aud_score</th>\n",
       "      <th>tom_ratings</th>\n",
       "      <th>entity</th>\n",
       "      <th>id</th>\n",
       "    </tr>\n",
       "  </thead>\n",
       "  <tbody>\n",
       "    <tr>\n",
       "      <th>1</th>\n",
       "      <td>Captain America</td>\n",
       "      <td>1944</td>\n",
       "      <td>Action, Adventure, Sci-Fi</td>\n",
       "      <td>244</td>\n",
       "      <td>Approved</td>\n",
       "      <td>5.5</td>\n",
       "      <td>844</td>\n",
       "      <td>0</td>\n",
       "      <td>Elmer Clifton</td>\n",
       "      <td>Elmer Clifton,Dick Purcell,Lorna Gray,Lionel A...</td>\n",
       "      <td>Superhero Captain America battles the evil for...</td>\n",
       "      <td>Find one of these old serials, friend. They're...</td>\n",
       "      <td>0</td>\n",
       "      <td>1</td>\n",
       "      <td>82</td>\n",
       "      <td>250</td>\n",
       "      <td>MARVEL</td>\n",
       "      <td>1</td>\n",
       "    </tr>\n",
       "    <tr>\n",
       "      <th>2</th>\n",
       "      <td>Howard the Duck</td>\n",
       "      <td>1986</td>\n",
       "      <td>Action, Adventure, Comedy</td>\n",
       "      <td>110</td>\n",
       "      <td>PG</td>\n",
       "      <td>4.7</td>\n",
       "      <td>44073</td>\n",
       "      <td>16300000</td>\n",
       "      <td>Willard Huyck</td>\n",
       "      <td>Willard Huyck,Lea Thompson,Jeffrey Jones,Tim R...</td>\n",
       "      <td>A sarcastic humanoid duck is pulled from his h...</td>\n",
       "      <td>While it has its moments, Howard the Duck suff...</td>\n",
       "      <td>13</td>\n",
       "      <td>78</td>\n",
       "      <td>38</td>\n",
       "      <td>50000</td>\n",
       "      <td>MARVEL</td>\n",
       "      <td>2</td>\n",
       "    </tr>\n",
       "  </tbody>\n",
       "</table>\n",
       "</div>"
      ],
      "text/plain": [
       "             title  year                      genre  runtime mpa_rating  \\\n",
       "1  Captain America  1944  Action, Adventure, Sci-Fi      244   Approved   \n",
       "2  Howard the Duck  1986  Action, Adventure, Comedy      110         PG   \n",
       "\n",
       "   imdb_rating  imdb_votes  imdb_gross       director  \\\n",
       "1          5.5         844           0  Elmer Clifton   \n",
       "2          4.7       44073    16300000  Willard Huyck   \n",
       "\n",
       "                                               stars  \\\n",
       "1  Elmer Clifton,Dick Purcell,Lorna Gray,Lionel A...   \n",
       "2  Willard Huyck,Lea Thompson,Jeffrey Jones,Tim R...   \n",
       "\n",
       "                                         description  \\\n",
       "1  Superhero Captain America battles the evil for...   \n",
       "2  A sarcastic humanoid duck is pulled from his h...   \n",
       "\n",
       "                                      crit_consensus  tomato_meter  \\\n",
       "1  Find one of these old serials, friend. They're...             0   \n",
       "2  While it has its moments, Howard the Duck suff...            13   \n",
       "\n",
       "   tomato_review  tom_aud_score  tom_ratings  entity  id  \n",
       "1              1             82          250  MARVEL   1  \n",
       "2             78             38        50000  MARVEL   2  "
      ]
     },
     "execution_count": 23,
     "metadata": {},
     "output_type": "execute_result"
    }
   ],
   "source": [
    "df = pd.read_csv(\"mdc.csv\", encoding=\"latin-1\", index_col= 0)\n",
    "df.head(2)"
   ]
  },
  {
   "cell_type": "markdown",
   "metadata": {},
   "source": [
    "**Descripción de las variables del Dataset:**\n",
    " - TITLE character Categorical Nominal - name of movie\n",
    " - YEAR numeric continuous Year Release Date\n",
    " - GENRE character Categorical Nominal - mix of many IMDB & Rotten Tomatoes Genre labels\n",
    " - RUNTIME numeric continuous Length of movie in minutes\n",
    " - MPA_RATING character Categorical Ordinal - Motion Picture Association film rating system\n",
    " - IMDB_RATING numeric discrete Rating on scale 1-10 with 10th percent .1-.9\n",
    " - IMDB_VOTES numeric continuous Number of user votes\n",
    " - GROSS numeric continuous Gross Profit as a whole number\n",
    " - DIRECTOR character Categorical Nominal - top 1 director - STARS character Categorical Nominal - top 4 actor/actress\n",
    " - DESCRIPTION character Description of movie\n",
    " - CRIT_CONSENSUS character Critics Consensus (Professional) about the movie\n",
    " - TOMATO_METER numeric continuous Percentage of PROFESSIONAL critic reviews that are positive\n",
    " - TOMATO_REVIEW numeric continuous Number of PROFESSIONAL reviews count\n",
    " - TOM_AUD_SCORE numeric continuous Percentage of regular user movie score\n",
    " - TOM_RATINGS numeric continuous Number of regular user votes\n",
    " - ENTITY character Factor w/2 levels (Marvel/DC) - entity for premise of movie\n"
   ]
  },
  {
   "cell_type": "markdown",
   "metadata": {},
   "source": [
    ">  <font color=violet>👩🏽‍🦱👩🏽‍🦱💬\n",
    "> **Tras la revisión de variables, formulamos algunas posibles hipótesis**:\n",
    "> - Pelis más largas tienen más rating\n",
    "> - El rating de IMDB es proporcional al de RottenTomatoes\n",
    "> - Las películas nuevas duran más\n",
    "> - El rating es mayor cuanto más recientes son las películas\n",
    "> - Las películas que más gustan tienen más reseñas. [*] Posible regresión Hiperbólica (cuanto más/menos gusta una película, más reseñas recibe). Para ver la cantidad de reseñas podemos utilizar: imdb_votes & tom_ratings "
   ]
  },
  {
   "cell_type": "markdown",
   "metadata": {},
   "source": [
    "## EJERCICIO 2\n",
    "- Explicar los datos y las variables disponibles en el conjunto de datos seleccionado. Esto se hace para que comprendáis mejor los datos con los que estais trabajando.\n",
    "- Realizar un EDA sencillo para la variable dependiente y la variable independiente.\n"
   ]
  },
  {
   "cell_type": "code",
   "execution_count": 24,
   "metadata": {},
   "outputs": [
    {
     "name": "stdout",
     "output_type": "stream",
     "text": [
      "<class 'pandas.core.frame.DataFrame'>\n",
      "Int64Index: 90 entries, 1 to 90\n",
      "Data columns (total 18 columns):\n",
      " #   Column          Non-Null Count  Dtype  \n",
      "---  ------          --------------  -----  \n",
      " 0   title           90 non-null     object \n",
      " 1   year            90 non-null     int64  \n",
      " 2   genre           90 non-null     object \n",
      " 3   runtime         90 non-null     int64  \n",
      " 4   mpa_rating      90 non-null     object \n",
      " 5   imdb_rating     90 non-null     float64\n",
      " 6   imdb_votes      90 non-null     int64  \n",
      " 7   imdb_gross      90 non-null     int64  \n",
      " 8   director        90 non-null     object \n",
      " 9   stars           90 non-null     object \n",
      " 10  description     90 non-null     object \n",
      " 11  crit_consensus  90 non-null     object \n",
      " 12  tomato_meter    90 non-null     int64  \n",
      " 13  tomato_review   90 non-null     int64  \n",
      " 14  tom_aud_score   90 non-null     int64  \n",
      " 15  tom_ratings     90 non-null     int64  \n",
      " 16  entity          90 non-null     object \n",
      " 17  id              90 non-null     int64  \n",
      "dtypes: float64(1), int64(9), object(8)\n",
      "memory usage: 13.4+ KB\n"
     ]
    }
   ],
   "source": [
    "df.info()"
   ]
  },
  {
   "cell_type": "markdown",
   "metadata": {},
   "source": [
    ">  👩🏽‍🦱👩🏽‍🦱💬  <font color=violet> Observamos que:\n",
    "> - Las columnas no tienen nulos.\n",
    "> - Tenemos 90 registros (filas)\n",
    "> - El dataset original tiene 18 columnas: title', 'year', 'genre', 'runtime', 'mpa_rating',        'imdb_rating', 'imdb_votes', 'imdb_gross', 'director', 'stars', 'description',\n",
    "       'crit_consensus', 'tomato_meter', 'tomato_review', 'tom_aud_score',\n",
    "       'tom_ratings', 'entity', 'id'\n",
    "> - Los tipos de dato de cada variable.\n",
    "> - Por ejemplo, vemos que en la puntuación de cada película para IMDB se representa en floats (1-10), y para RottenTomatoes en int (%). \"imbd_ratings\" y \"tom_aud_score\" (%), respectivamente. "
   ]
  },
  {
   "cell_type": "markdown",
   "metadata": {},
   "source": [
    "# HIPÓTESIS Y VARIABLES:\n",
    " <font color=violet> Nos decantamos por esta HIPÓTESIS:\n",
    "- H1: \"Cuanto más largas son las películas mejor puntuación reciben\"\n",
    "- H0: \"El tiempo de duración las películas no afecta a su puntuación\"\n",
    "\n",
    "**VARIABLES**\n",
    "\n",
    "- DEPENDIENTE: Nota en IMDB --> imdb_rating\n",
    "- INDEPENDIENTE: Duración de la película --> runtime"
   ]
  },
  {
   "cell_type": "markdown",
   "metadata": {},
   "source": [
    "## EDA DE LAS VARIABLES"
   ]
  },
  {
   "cell_type": "markdown",
   "metadata": {},
   "source": [
    "**1) IMDB_rating**"
   ]
  },
  {
   "cell_type": "code",
   "execution_count": 26,
   "metadata": {},
   "outputs": [
    {
     "data": {
      "text/plain": [
       "count    90.000000\n",
       "mean      6.552222\n",
       "std       1.271576\n",
       "min       2.900000\n",
       "25%       5.700000\n",
       "50%       6.900000\n",
       "75%       7.400000\n",
       "max       9.000000\n",
       "Name: imdb_rating, dtype: float64"
      ]
     },
     "execution_count": 26,
     "metadata": {},
     "output_type": "execute_result"
    }
   ],
   "source": [
    "df[\"imdb_rating\"].describe()"
   ]
  },
  {
   "cell_type": "markdown",
   "metadata": {},
   "source": [
    " <font color=violet> Miramos la distribución de los datos de esta variable. Usamos dos gráficas diferentes por probar:"
   ]
  },
  {
   "cell_type": "code",
   "execution_count": 27,
   "metadata": {},
   "outputs": [
    {
     "data": {
      "image/png": "[encoded data removed]",
      "text/plain": [
       "<Figure size 432x288 with 2 Axes>"
      ]
     },
     "metadata": {
      "needs_background": "light"
     },
     "output_type": "display_data"
    }
   ],
   "source": [
    "fig, ax = plt.subplots(1, 2)\n",
    "\n",
    "sns.violinplot(data = df, x = \"imdb_rating\", ax=ax[0])\n",
    "sns.boxplot(data = df, x = \"imdb_rating\", ax=ax[1])\n",
    "\n",
    "plt.show()"
   ]
  },
  {
   "cell_type": "markdown",
   "metadata": {},
   "source": [
    " <font color=violet>  Curioseamos qué películas tienen el máximo / mínimo rating:"
   ]
  },
  {
   "cell_type": "code",
   "execution_count": 28,
   "metadata": {},
   "outputs": [
    {
     "data": {
      "text/html": [
       "<div>\n",
       "<style scoped>\n",
       "    .dataframe tbody tr th:only-of-type {\n",
       "        vertical-align: middle;\n",
       "    }\n",
       "\n",
       "    .dataframe tbody tr th {\n",
       "        vertical-align: top;\n",
       "    }\n",
       "\n",
       "    .dataframe thead th {\n",
       "        text-align: right;\n",
       "    }\n",
       "</style>\n",
       "<table border=\"1\" class=\"dataframe\">\n",
       "  <thead>\n",
       "    <tr style=\"text-align: right;\">\n",
       "      <th></th>\n",
       "      <th>title</th>\n",
       "      <th>year</th>\n",
       "      <th>genre</th>\n",
       "      <th>runtime</th>\n",
       "      <th>mpa_rating</th>\n",
       "      <th>imdb_rating</th>\n",
       "      <th>imdb_votes</th>\n",
       "      <th>imdb_gross</th>\n",
       "      <th>director</th>\n",
       "      <th>stars</th>\n",
       "      <th>description</th>\n",
       "      <th>crit_consensus</th>\n",
       "      <th>tomato_meter</th>\n",
       "      <th>tomato_review</th>\n",
       "      <th>tom_aud_score</th>\n",
       "      <th>tom_ratings</th>\n",
       "      <th>entity</th>\n",
       "      <th>id</th>\n",
       "    </tr>\n",
       "  </thead>\n",
       "  <tbody>\n",
       "    <tr>\n",
       "      <th>76</th>\n",
       "      <td>The Dark Knight</td>\n",
       "      <td>2008</td>\n",
       "      <td>Action, Crime, Drama</td>\n",
       "      <td>152</td>\n",
       "      <td>PG-13</td>\n",
       "      <td>9.0</td>\n",
       "      <td>2369304</td>\n",
       "      <td>534860000</td>\n",
       "      <td>Christopher Nolan</td>\n",
       "      <td>Christian Bale,Heath Ledger,Aaron Eckhart,Mich...</td>\n",
       "      <td>When the menace known as the Joker wreaks havo...</td>\n",
       "      <td>Dark, complex, and unforgettable, The Dark Kni...</td>\n",
       "      <td>94</td>\n",
       "      <td>344</td>\n",
       "      <td>94</td>\n",
       "      <td>250000</td>\n",
       "      <td>DC</td>\n",
       "      <td>76</td>\n",
       "    </tr>\n",
       "  </tbody>\n",
       "</table>\n",
       "</div>"
      ],
      "text/plain": [
       "              title  year                 genre  runtime mpa_rating  \\\n",
       "76  The Dark Knight  2008  Action, Crime, Drama      152      PG-13   \n",
       "\n",
       "    imdb_rating  imdb_votes  imdb_gross           director  \\\n",
       "76          9.0     2369304   534860000  Christopher Nolan   \n",
       "\n",
       "                                                stars  \\\n",
       "76  Christian Bale,Heath Ledger,Aaron Eckhart,Mich...   \n",
       "\n",
       "                                          description  \\\n",
       "76  When the menace known as the Joker wreaks havo...   \n",
       "\n",
       "                                       crit_consensus  tomato_meter  \\\n",
       "76  Dark, complex, and unforgettable, The Dark Kni...            94   \n",
       "\n",
       "    tomato_review  tom_aud_score  tom_ratings entity  id  \n",
       "76            344             94       250000     DC  76  "
      ]
     },
     "execution_count": 28,
     "metadata": {},
     "output_type": "execute_result"
    }
   ],
   "source": [
    "df[df[\"imdb_rating\"] == df[\"imdb_rating\"].max()]"
   ]
  },
  {
   "cell_type": "code",
   "execution_count": 29,
   "metadata": {},
   "outputs": [
    {
     "data": {
      "text/html": [
       "<div>\n",
       "<style scoped>\n",
       "    .dataframe tbody tr th:only-of-type {\n",
       "        vertical-align: middle;\n",
       "    }\n",
       "\n",
       "    .dataframe tbody tr th {\n",
       "        vertical-align: top;\n",
       "    }\n",
       "\n",
       "    .dataframe thead th {\n",
       "        text-align: right;\n",
       "    }\n",
       "</style>\n",
       "<table border=\"1\" class=\"dataframe\">\n",
       "  <thead>\n",
       "    <tr style=\"text-align: right;\">\n",
       "      <th></th>\n",
       "      <th>title</th>\n",
       "      <th>year</th>\n",
       "      <th>genre</th>\n",
       "      <th>runtime</th>\n",
       "      <th>mpa_rating</th>\n",
       "      <th>imdb_rating</th>\n",
       "      <th>imdb_votes</th>\n",
       "      <th>imdb_gross</th>\n",
       "      <th>director</th>\n",
       "      <th>stars</th>\n",
       "      <th>description</th>\n",
       "      <th>crit_consensus</th>\n",
       "      <th>tomato_meter</th>\n",
       "      <th>tomato_review</th>\n",
       "      <th>tom_aud_score</th>\n",
       "      <th>tom_ratings</th>\n",
       "      <th>entity</th>\n",
       "      <th>id</th>\n",
       "    </tr>\n",
       "  </thead>\n",
       "  <tbody>\n",
       "    <tr>\n",
       "      <th>71</th>\n",
       "      <td>Steel</td>\n",
       "      <td>1997</td>\n",
       "      <td>Action, Adventure, Crime</td>\n",
       "      <td>97</td>\n",
       "      <td>PG-13</td>\n",
       "      <td>2.9</td>\n",
       "      <td>11519</td>\n",
       "      <td>1710000</td>\n",
       "      <td>Kenneth Johnson</td>\n",
       "      <td>Shaquille O'Neal,Annabeth Gish,Judd Nelson,Ric...</td>\n",
       "      <td>A scientist for the military turns himself int...</td>\n",
       "      <td>Steel is a badly-acted movie that indulges not...</td>\n",
       "      <td>12</td>\n",
       "      <td>26</td>\n",
       "      <td>15</td>\n",
       "      <td>5000</td>\n",
       "      <td>DC</td>\n",
       "      <td>71</td>\n",
       "    </tr>\n",
       "  </tbody>\n",
       "</table>\n",
       "</div>"
      ],
      "text/plain": [
       "    title  year                     genre  runtime mpa_rating  imdb_rating  \\\n",
       "71  Steel  1997  Action, Adventure, Crime       97      PG-13          2.9   \n",
       "\n",
       "    imdb_votes  imdb_gross         director  \\\n",
       "71       11519     1710000  Kenneth Johnson   \n",
       "\n",
       "                                                stars  \\\n",
       "71  Shaquille O'Neal,Annabeth Gish,Judd Nelson,Ric...   \n",
       "\n",
       "                                          description  \\\n",
       "71  A scientist for the military turns himself int...   \n",
       "\n",
       "                                       crit_consensus  tomato_meter  \\\n",
       "71  Steel is a badly-acted movie that indulges not...            12   \n",
       "\n",
       "    tomato_review  tom_aud_score  tom_ratings entity  id  \n",
       "71             26             15         5000     DC  71  "
      ]
     },
     "execution_count": 29,
     "metadata": {},
     "output_type": "execute_result"
    }
   ],
   "source": [
    "df[df[\"imdb_rating\"] == df[\"imdb_rating\"].min()]"
   ]
  },
  {
   "cell_type": "markdown",
   "metadata": {},
   "source": [
    "**2. Runtime**"
   ]
  },
  {
   "cell_type": "code",
   "execution_count": 30,
   "metadata": {},
   "outputs": [
    {
     "data": {
      "text/plain": [
       "count     90.000000\n",
       "mean     124.144444\n",
       "std       23.522192\n",
       "min       58.000000\n",
       "25%      110.500000\n",
       "50%      124.000000\n",
       "75%      136.000000\n",
       "max      244.000000\n",
       "Name: runtime, dtype: float64"
      ]
     },
     "execution_count": 30,
     "metadata": {},
     "output_type": "execute_result"
    }
   ],
   "source": [
    "df[\"runtime\"].describe()"
   ]
  },
  {
   "cell_type": "code",
   "execution_count": 31,
   "metadata": {},
   "outputs": [
    {
     "data": {
      "text/html": [
       "<div>\n",
       "<style scoped>\n",
       "    .dataframe tbody tr th:only-of-type {\n",
       "        vertical-align: middle;\n",
       "    }\n",
       "\n",
       "    .dataframe tbody tr th {\n",
       "        vertical-align: top;\n",
       "    }\n",
       "\n",
       "    .dataframe thead th {\n",
       "        text-align: right;\n",
       "    }\n",
       "</style>\n",
       "<table border=\"1\" class=\"dataframe\">\n",
       "  <thead>\n",
       "    <tr style=\"text-align: right;\">\n",
       "      <th></th>\n",
       "      <th>title</th>\n",
       "      <th>year</th>\n",
       "      <th>genre</th>\n",
       "      <th>runtime</th>\n",
       "      <th>mpa_rating</th>\n",
       "      <th>imdb_rating</th>\n",
       "      <th>imdb_votes</th>\n",
       "      <th>imdb_gross</th>\n",
       "      <th>director</th>\n",
       "      <th>stars</th>\n",
       "      <th>description</th>\n",
       "      <th>crit_consensus</th>\n",
       "      <th>tomato_meter</th>\n",
       "      <th>tomato_review</th>\n",
       "      <th>tom_aud_score</th>\n",
       "      <th>tom_ratings</th>\n",
       "      <th>entity</th>\n",
       "      <th>id</th>\n",
       "    </tr>\n",
       "  </thead>\n",
       "  <tbody>\n",
       "    <tr>\n",
       "      <th>58</th>\n",
       "      <td>Superman and the Mole-Men</td>\n",
       "      <td>1951</td>\n",
       "      <td>Action, Adventure, Drama</td>\n",
       "      <td>58</td>\n",
       "      <td>Passed</td>\n",
       "      <td>5.7</td>\n",
       "      <td>1828</td>\n",
       "      <td>0</td>\n",
       "      <td>Lee Sholem</td>\n",
       "      <td>George Reeves,Phyllis Coates,Jeff Corey,Walter...</td>\n",
       "      <td>When underground beings explore the surface wo...</td>\n",
       "      <td>Even at under an hour, this children's fantasy...</td>\n",
       "      <td>0</td>\n",
       "      <td>2</td>\n",
       "      <td>83</td>\n",
       "      <td>250</td>\n",
       "      <td>DC</td>\n",
       "      <td>58</td>\n",
       "    </tr>\n",
       "  </tbody>\n",
       "</table>\n",
       "</div>"
      ],
      "text/plain": [
       "                        title  year                     genre  runtime  \\\n",
       "58  Superman and the Mole-Men  1951  Action, Adventure, Drama       58   \n",
       "\n",
       "   mpa_rating  imdb_rating  imdb_votes  imdb_gross    director  \\\n",
       "58     Passed          5.7        1828           0  Lee Sholem   \n",
       "\n",
       "                                                stars  \\\n",
       "58  George Reeves,Phyllis Coates,Jeff Corey,Walter...   \n",
       "\n",
       "                                          description  \\\n",
       "58  When underground beings explore the surface wo...   \n",
       "\n",
       "                                       crit_consensus  tomato_meter  \\\n",
       "58  Even at under an hour, this children's fantasy...             0   \n",
       "\n",
       "    tomato_review  tom_aud_score  tom_ratings entity  id  \n",
       "58              2             83          250     DC  58  "
      ]
     },
     "execution_count": 31,
     "metadata": {},
     "output_type": "execute_result"
    }
   ],
   "source": [
    "df[df[\"runtime\"]== df[\"runtime\"].min()]"
   ]
  },
  {
   "cell_type": "code",
   "execution_count": 32,
   "metadata": {},
   "outputs": [
    {
     "data": {
      "text/html": [
       "<div>\n",
       "<style scoped>\n",
       "    .dataframe tbody tr th:only-of-type {\n",
       "        vertical-align: middle;\n",
       "    }\n",
       "\n",
       "    .dataframe tbody tr th {\n",
       "        vertical-align: top;\n",
       "    }\n",
       "\n",
       "    .dataframe thead th {\n",
       "        text-align: right;\n",
       "    }\n",
       "</style>\n",
       "<table border=\"1\" class=\"dataframe\">\n",
       "  <thead>\n",
       "    <tr style=\"text-align: right;\">\n",
       "      <th></th>\n",
       "      <th>title</th>\n",
       "      <th>year</th>\n",
       "      <th>genre</th>\n",
       "      <th>runtime</th>\n",
       "      <th>mpa_rating</th>\n",
       "      <th>imdb_rating</th>\n",
       "      <th>imdb_votes</th>\n",
       "      <th>imdb_gross</th>\n",
       "      <th>director</th>\n",
       "      <th>stars</th>\n",
       "      <th>description</th>\n",
       "      <th>crit_consensus</th>\n",
       "      <th>tomato_meter</th>\n",
       "      <th>tomato_review</th>\n",
       "      <th>tom_aud_score</th>\n",
       "      <th>tom_ratings</th>\n",
       "      <th>entity</th>\n",
       "      <th>id</th>\n",
       "    </tr>\n",
       "  </thead>\n",
       "  <tbody>\n",
       "    <tr>\n",
       "      <th>1</th>\n",
       "      <td>Captain America</td>\n",
       "      <td>1944</td>\n",
       "      <td>Action, Adventure, Sci-Fi</td>\n",
       "      <td>244</td>\n",
       "      <td>Approved</td>\n",
       "      <td>5.5</td>\n",
       "      <td>844</td>\n",
       "      <td>0</td>\n",
       "      <td>Elmer Clifton</td>\n",
       "      <td>Elmer Clifton,Dick Purcell,Lorna Gray,Lionel A...</td>\n",
       "      <td>Superhero Captain America battles the evil for...</td>\n",
       "      <td>Find one of these old serials, friend. They're...</td>\n",
       "      <td>0</td>\n",
       "      <td>1</td>\n",
       "      <td>82</td>\n",
       "      <td>250</td>\n",
       "      <td>MARVEL</td>\n",
       "      <td>1</td>\n",
       "    </tr>\n",
       "  </tbody>\n",
       "</table>\n",
       "</div>"
      ],
      "text/plain": [
       "             title  year                      genre  runtime mpa_rating  \\\n",
       "1  Captain America  1944  Action, Adventure, Sci-Fi      244   Approved   \n",
       "\n",
       "   imdb_rating  imdb_votes  imdb_gross       director  \\\n",
       "1          5.5         844           0  Elmer Clifton   \n",
       "\n",
       "                                               stars  \\\n",
       "1  Elmer Clifton,Dick Purcell,Lorna Gray,Lionel A...   \n",
       "\n",
       "                                         description  \\\n",
       "1  Superhero Captain America battles the evil for...   \n",
       "\n",
       "                                      crit_consensus  tomato_meter  \\\n",
       "1  Find one of these old serials, friend. They're...             0   \n",
       "\n",
       "   tomato_review  tom_aud_score  tom_ratings  entity  id  \n",
       "1              1             82          250  MARVEL   1  "
      ]
     },
     "execution_count": 32,
     "metadata": {},
     "output_type": "execute_result"
    }
   ],
   "source": [
    "df[df[\"runtime\"]== df[\"runtime\"].max()]"
   ]
  },
  {
   "cell_type": "markdown",
   "metadata": {},
   "source": [
    " <font color=violet> Miramos la distribución de los datos de esta variable. Usamos tres visualizaciones gráficas diferentes por probar:"
   ]
  },
  {
   "cell_type": "code",
   "execution_count": 33,
   "metadata": {},
   "outputs": [
    {
     "data": {
      "image/png": "[encoded data removed]",
      "text/plain": [
       "<Figure size 720x576 with 3 Axes>"
      ]
     },
     "metadata": {
      "needs_background": "light"
     },
     "output_type": "display_data"
    }
   ],
   "source": [
    "fig, ax = plt.subplots(3, 1, figsize = (10,8))\n",
    "sns.violinplot(data = df, x = \"runtime\", ax=ax[0])\n",
    "sns.boxplot(data = df, x = \"runtime\", ax=ax[1])\n",
    "sns.swarmplot(data = df, x = \"runtime\", ax=ax[2])\n",
    "plt.show()\n"
   ]
  },
  {
   "cell_type": "markdown",
   "metadata": {},
   "source": [
    "# EJERCICIO 3\n",
    "Realiza el ajuste lineal simple utilizando diversas métricas y realiza una gráfica mostrando los resultados.\n"
   ]
  },
  {
   "cell_type": "markdown",
   "metadata": {},
   "source": [
    " <font color=violet> Hemos desgranado los pasos para aclararnos mejor con el funcionamiento del ajuste, y comentamos al lado qué hacemos en cada fase:"
   ]
  },
  {
   "cell_type": "code",
   "execution_count": 34,
   "metadata": {},
   "outputs": [],
   "source": [
    "#Variable independiente (predictora)\n",
    "ind = df[\"runtime\"].values.reshape(-1, 1)\n",
    "\n",
    "#Variable dependiente (respuesta):\n",
    "dep = df[\"imdb_rating\"].values.reshape(-1, 1)\n",
    "\n",
    "#Les hacemos un reshape porque el modelo espera que le pasemos un array de 2 dimensiones con una única columna."
   ]
  },
  {
   "cell_type": "code",
   "execution_count": 35,
   "metadata": {},
   "outputs": [],
   "source": [
    "#Usamos \"train_test_split\" para dividir de forma aleatoria nuestros datos, para las dos variables, en un grupo aleatorio con el 70 % de los datos, dirigido al entrenamiento, y un 30 % de ellos para el test posterior.\n",
    "\n",
    "ind_train, ind_test, dep_train, dep_test = train_test_split(ind, dep, test_size = 0.3)"
   ]
  },
  {
   "cell_type": "code",
   "execution_count": 36,
   "metadata": {},
   "outputs": [
    {
     "data": {
      "text/plain": [
       "LinearRegression(n_jobs=-1)"
      ]
     },
     "execution_count": 36,
     "metadata": {},
     "output_type": "execute_result"
    }
   ],
   "source": [
    "#Inicializamos el método \"LinearRegression\" y lo aplicamos (.fit) a nuestros conjuntos de datos de datos de entrenamiento.\n",
    "\n",
    "LR = LinearRegression(n_jobs=-1)\n",
    "LR.fit(ind_train, dep_train)"
   ]
  },
  {
   "cell_type": "code",
   "execution_count": 37,
   "metadata": {},
   "outputs": [],
   "source": [
    "# Creamos unas variables que guardarán un conjunto de datos predichos para la variable dependiente (aplicando el método LR - que hemos aplicado antes con .fit a ambos conjuntos (train y test) de la variable predictora. \n",
    "\n",
    "dep_predict_train = LR.predict(ind_train)\n",
    "dep_prediction = LR.predict(ind_test)"
   ]
  },
  {
   "cell_type": "code",
   "execution_count": 38,
   "metadata": {},
   "outputs": [
    {
     "data": {
      "image/png": "[encoded data removed]",
      "text/plain": [
       "<Figure size 432x288 with 1 Axes>"
      ]
     },
     "metadata": {
      "needs_background": "light"
     },
     "output_type": "display_data"
    }
   ],
   "source": [
    "#Realizamos un scatterplot con los datos, reales, que hemos guardado en las dos variables test - con un 30 % aleatorio de los datos.\n",
    "# Sobre la misma figura, planteamos la recta de regresión que hemos creado con la prediccion (dep_prediction):\n",
    "\n",
    "plt.scatter(ind_test,dep_test,color=\"violet\")  \n",
    "plt.plot(ind_test, dep_prediction,color=\"black\",linewidth=3) \n",
    "plt.title('Línea de regresión (para los datos de entrenamiento)')\n",
    "plt.xlabel('Puntuación en IMDB')\n",
    "plt.ylabel('Duración de la película')\n",
    "plt.show()"
   ]
  },
  {
   "cell_type": "markdown",
   "metadata": {},
   "source": [
    "# EJERCICIO 4\n",
    "Interpretación de los resultados. Ahora interpreta los resultados obtenidos del ajuste lineal simple y explica lo mejor posible la naturaleza de los mismos."
   ]
  },
  {
   "cell_type": "markdown",
   "metadata": {},
   "source": [
    "\n",
    "> -  <font color=violet> A primera vista, no parece que la predicción esté del todo ajustada a los datos del test. \n",
    "> - Habrá que calcular el grado de error que podemos permitir y hacer más estudios para ver si existe, o no, una relación entre estas dos variables. O quizá realizar ajustes a nuestros datos."
   ]
  }
 ],
 "metadata": {
  "interpreter": {
   "hash": "9df72549cec875d35faaa50875d444b10c11452b268975a17c9dc6870f43870f"
  },
  "kernelspec": {
   "display_name": "Python 3.9.7 ('base')",
   "language": "python",
   "name": "python3"
  },
  "language_info": {
   "codemirror_mode": {
    "name": "ipython",
    "version": 3
   },
   "file_extension": ".py",
   "mimetype": "text/x-python",
   "name": "python",
   "nbconvert_exporter": "python",
   "pygments_lexer": "ipython3",
   "version": "3.9.7"
  },
  "orig_nbformat": 4
 },
 "nbformat": 4,
 "nbformat_minor": 2
}
