{
 "cells": [
  {
   "cell_type": "markdown",
   "metadata": {},
   "source": [
    "### Módulo 3 | PAIR PROGRAMMING | Regresión 2 | 26/05/22 | Almudena & Lara"
   ]
  },
  {
   "cell_type": "code",
   "execution_count": 2,
   "metadata": {},
   "outputs": [],
   "source": [
    "import pandas as pd \n",
    "import seaborn as sns\n",
    "import matplotlib.pyplot as plt\n",
    "import sidetable as stb\n",
    "from sklearn.model_selection import train_test_split\n",
    "from sklearn.linear_model import LinearRegression\n",
    "import statsmodels.api as sm"
   ]
  },
  {
   "cell_type": "code",
   "execution_count": 3,
   "metadata": {},
   "outputs": [
    {
     "data": {
      "text/html": [
       "<div>\n",
       "<style scoped>\n",
       "    .dataframe tbody tr th:only-of-type {\n",
       "        vertical-align: middle;\n",
       "    }\n",
       "\n",
       "    .dataframe tbody tr th {\n",
       "        vertical-align: top;\n",
       "    }\n",
       "\n",
       "    .dataframe thead th {\n",
       "        text-align: right;\n",
       "    }\n",
       "</style>\n",
       "<table border=\"1\" class=\"dataframe\">\n",
       "  <thead>\n",
       "    <tr style=\"text-align: right;\">\n",
       "      <th></th>\n",
       "      <th>title</th>\n",
       "      <th>year</th>\n",
       "      <th>genre</th>\n",
       "      <th>runtime</th>\n",
       "      <th>mpa_rating</th>\n",
       "      <th>imdb_rating</th>\n",
       "      <th>imdb_votes</th>\n",
       "      <th>imdb_gross</th>\n",
       "      <th>director</th>\n",
       "      <th>stars</th>\n",
       "      <th>description</th>\n",
       "      <th>crit_consensus</th>\n",
       "      <th>tomato_meter</th>\n",
       "      <th>tomato_review</th>\n",
       "      <th>tom_aud_score</th>\n",
       "      <th>tom_ratings</th>\n",
       "      <th>entity</th>\n",
       "      <th>id</th>\n",
       "    </tr>\n",
       "  </thead>\n",
       "  <tbody>\n",
       "    <tr>\n",
       "      <th>1</th>\n",
       "      <td>Captain America</td>\n",
       "      <td>1944</td>\n",
       "      <td>Action, Adventure, Sci-Fi</td>\n",
       "      <td>244</td>\n",
       "      <td>Approved</td>\n",
       "      <td>5.5</td>\n",
       "      <td>844</td>\n",
       "      <td>0</td>\n",
       "      <td>Elmer Clifton</td>\n",
       "      <td>Elmer Clifton,Dick Purcell,Lorna Gray,Lionel A...</td>\n",
       "      <td>Superhero Captain America battles the evil for...</td>\n",
       "      <td>Find one of these old serials, friend. They're...</td>\n",
       "      <td>0</td>\n",
       "      <td>1</td>\n",
       "      <td>82</td>\n",
       "      <td>250</td>\n",
       "      <td>MARVEL</td>\n",
       "      <td>1</td>\n",
       "    </tr>\n",
       "    <tr>\n",
       "      <th>2</th>\n",
       "      <td>Howard the Duck</td>\n",
       "      <td>1986</td>\n",
       "      <td>Action, Adventure, Comedy</td>\n",
       "      <td>110</td>\n",
       "      <td>PG</td>\n",
       "      <td>4.7</td>\n",
       "      <td>44073</td>\n",
       "      <td>16300000</td>\n",
       "      <td>Willard Huyck</td>\n",
       "      <td>Willard Huyck,Lea Thompson,Jeffrey Jones,Tim R...</td>\n",
       "      <td>A sarcastic humanoid duck is pulled from his h...</td>\n",
       "      <td>While it has its moments, Howard the Duck suff...</td>\n",
       "      <td>13</td>\n",
       "      <td>78</td>\n",
       "      <td>38</td>\n",
       "      <td>50000</td>\n",
       "      <td>MARVEL</td>\n",
       "      <td>2</td>\n",
       "    </tr>\n",
       "  </tbody>\n",
       "</table>\n",
       "</div>"
      ],
      "text/plain": [
       "             title  year                      genre  runtime mpa_rating  \\\n",
       "1  Captain America  1944  Action, Adventure, Sci-Fi      244   Approved   \n",
       "2  Howard the Duck  1986  Action, Adventure, Comedy      110         PG   \n",
       "\n",
       "   imdb_rating  imdb_votes  imdb_gross       director  \\\n",
       "1          5.5         844           0  Elmer Clifton   \n",
       "2          4.7       44073    16300000  Willard Huyck   \n",
       "\n",
       "                                               stars  \\\n",
       "1  Elmer Clifton,Dick Purcell,Lorna Gray,Lionel A...   \n",
       "2  Willard Huyck,Lea Thompson,Jeffrey Jones,Tim R...   \n",
       "\n",
       "                                         description  \\\n",
       "1  Superhero Captain America battles the evil for...   \n",
       "2  A sarcastic humanoid duck is pulled from his h...   \n",
       "\n",
       "                                      crit_consensus  tomato_meter  \\\n",
       "1  Find one of these old serials, friend. They're...             0   \n",
       "2  While it has its moments, Howard the Duck suff...            13   \n",
       "\n",
       "   tomato_review  tom_aud_score  tom_ratings  entity  id  \n",
       "1              1             82          250  MARVEL   1  \n",
       "2             78             38        50000  MARVEL   2  "
      ]
     },
     "execution_count": 3,
     "metadata": {},
     "output_type": "execute_result"
    }
   ],
   "source": [
    "df = pd.read_csv(\"mdc.csv\", encoding=\"latin-1\", index_col= 0)\n",
    "df.head(2)"
   ]
  },
  {
   "cell_type": "markdown",
   "metadata": {},
   "source": [
    "# Ejercicio 1\n",
    "Realizar de nuevo el ajuste lineal con los mismos datos y parámetros utilizados en la lección anterior.\n"
   ]
  },
  {
   "cell_type": "code",
   "execution_count": 4,
   "metadata": {},
   "outputs": [
    {
     "data": {
      "image/png": "[encoded data removed]",
      "text/plain": [
       "<Figure size 432x288 with 1 Axes>"
      ]
     },
     "metadata": {
      "needs_background": "light"
     },
     "output_type": "display_data"
    }
   ],
   "source": [
    "ind = df[\"runtime\"].values.reshape(-1, 1)\n",
    "dep = df[\"imdb_rating\"].values.reshape(-1, 1)\n",
    "\n",
    "ind_train, ind_test, dep_train, dep_test = train_test_split(ind, dep, test_size = 0.3)\n",
    "\n",
    "LR = LinearRegression(n_jobs=-1)\n",
    "LR.fit(ind_train, dep_train)\n",
    "\n",
    "dep_predict_train = LR.predict(ind_train)\n",
    "dep_prediction = LR.predict(ind_test)\n",
    "\n",
    "plt.scatter(ind_test,dep_test,color=\"violet\")  \n",
    "plt.plot(ind_test, dep_prediction, color=\"black\", linewidth=3) \n",
    "plt.title('Línea de regresión (para los datos de entrenamiento)')\n",
    "plt.xlabel('Puntuación en IMDB')\n",
    "plt.ylabel('Duración de la película')\n",
    "plt.show()"
   ]
  },
  {
   "cell_type": "markdown",
   "metadata": {},
   "source": [
    "# Ejercicio 2\n",
    "Realizar un estudio de las asunciones de linealidad para los resultados obtenidos de nuestra regresión lineal simple.\n"
   ]
  },
  {
   "cell_type": "markdown",
   "metadata": {},
   "source": [
    "**1. Linealidad**"
   ]
  },
  {
   "cell_type": "code",
   "execution_count": 5,
   "metadata": {},
   "outputs": [
    {
     "data": {
      "image/png": "[encoded data removed]",
      "text/plain": [
       "<Figure size 432x288 with 1 Axes>"
      ]
     },
     "metadata": {
      "needs_background": "light"
     },
     "output_type": "display_data"
    }
   ],
   "source": [
    "plt.figure()\n",
    "sns.scatterplot(x = \"imdb_rating\", y = \"runtime\", data = df, color = \"purple\")\n",
    "plt.show()"
   ]
  },
  {
   "cell_type": "code",
   "execution_count": 6,
   "metadata": {},
   "outputs": [
    {
     "data": {
      "text/html": [
       "<div>\n",
       "<style scoped>\n",
       "    .dataframe tbody tr th:only-of-type {\n",
       "        vertical-align: middle;\n",
       "    }\n",
       "\n",
       "    .dataframe tbody tr th {\n",
       "        vertical-align: top;\n",
       "    }\n",
       "\n",
       "    .dataframe thead th {\n",
       "        text-align: right;\n",
       "    }\n",
       "</style>\n",
       "<table border=\"1\" class=\"dataframe\">\n",
       "  <thead>\n",
       "    <tr style=\"text-align: right;\">\n",
       "      <th></th>\n",
       "      <th>imdb_rating</th>\n",
       "      <th>runtime</th>\n",
       "    </tr>\n",
       "  </thead>\n",
       "  <tbody>\n",
       "    <tr>\n",
       "      <th>imdb_rating</th>\n",
       "      <td>1.0000</td>\n",
       "      <td>0.4467</td>\n",
       "    </tr>\n",
       "    <tr>\n",
       "      <th>runtime</th>\n",
       "      <td>0.4467</td>\n",
       "      <td>1.0000</td>\n",
       "    </tr>\n",
       "  </tbody>\n",
       "</table>\n",
       "</div>"
      ],
      "text/plain": [
       "             imdb_rating  runtime\n",
       "imdb_rating       1.0000   0.4467\n",
       "runtime           0.4467   1.0000"
      ]
     },
     "execution_count": 6,
     "metadata": {},
     "output_type": "execute_result"
    }
   ],
   "source": [
    "df[[\"imdb_rating\", \"runtime\"]].corr()"
   ]
  },
  {
   "cell_type": "markdown",
   "metadata": {},
   "source": [
    "**2.Independencia**"
   ]
  },
  {
   "cell_type": "code",
   "execution_count": 7,
   "metadata": {},
   "outputs": [],
   "source": [
    "residuos_dep = dep_test - dep_prediction"
   ]
  },
  {
   "cell_type": "code",
   "execution_count": 13,
   "metadata": {},
   "outputs": [
    {
     "data": {
      "image/png": "[encoded data removed]",
      "text/plain": [
       "<Figure size 432x288 with 1 Axes>"
      ]
     },
     "metadata": {
      "needs_background": "light"
     },
     "output_type": "display_data"
    }
   ],
   "source": [
    "fig,ax = plt.subplots()\n",
    "plt.scatter(x = dep_test, y = residuos_dep, color = \"purple\")\n",
    "plt.axline((float(min(dep_prediction)),0),(float(max(dep_prediction)),0),color=\"black\",linestyle= '--') \n",
    "plt.title('Gráfica de dispersion: Test / residuos')\n",
    "ax.set_xlabel('Imdb_rating test')\n",
    "ax.set_ylabel('Residuos')\n",
    "plt.show()"
   ]
  },
  {
   "cell_type": "markdown",
   "metadata": {},
   "source": [
    "**3.Homocedasticidad**"
   ]
  },
  {
   "cell_type": "code",
   "execution_count": 14,
   "metadata": {},
   "outputs": [
    {
     "data": {
      "image/png": "[encoded data removed]",
      "text/plain": [
       "<Figure size 432x288 with 1 Axes>"
      ]
     },
     "metadata": {
      "needs_background": "light"
     },
     "output_type": "display_data"
    }
   ],
   "source": [
    "plt.figure()\n",
    "plt.scatter(x = dep_prediction, y = residuos_dep, color = \"purple\")\n",
    "plt.axline((float(min(dep_prediction)),0),(float(max(dep_prediction)),0),color=\"black\",linestyle= '--') \n",
    "plt.title('Gráfica de dispersion: Predicción / residuos')\n",
    "ax.set_xlabel('Imdb_rating predicción')\n",
    "ax.set_ylabel('Residuos')\n",
    "plt.show()"
   ]
  },
  {
   "cell_type": "markdown",
   "metadata": {},
   "source": [
    "**4.Normalidad**"
   ]
  },
  {
   "cell_type": "code",
   "execution_count": 28,
   "metadata": {},
   "outputs": [
    {
     "data": {
      "image/png": "[encoded data removed]",
      "text/plain": [
       "<Figure size 864x288 with 2 Axes>"
      ]
     },
     "metadata": {
      "needs_background": "light"
     },
     "output_type": "display_data"
    }
   ],
   "source": [
    "fig, ax = plt.subplots(1, 2, figsize = (12, 4))\n",
    "plt.title(\"Distribución de los residuos\")\n",
    "sns.histplot(residuos_dep, ax = ax[0], palette= \"Oranges\")\n",
    "sm.qqplot(residuos_dep, line = '45', ax = ax[1])\n",
    "plt.show()\n",
    "\n",
    "#Distribución de los residuos"
   ]
  },
  {
   "cell_type": "markdown",
   "metadata": {},
   "source": [
    "# Ejercicio 3\n",
    "Interpretación de los resultados. Ahora interpreta los resultados obtenidos del estudio de las asunciones de linealidad del ajuste lineal simple y explica lo mejor posible los resultados obtenidos, así como si se cumple o se incumple algunas de las asunciones de linealidad."
   ]
  },
  {
   "cell_type": "markdown",
   "metadata": {},
   "source": [
    "> <font color = violet> **Linealidad**\n",
    "- Existencia de relación lineal entre dos variables. Comprobamos esta asución con un scatterplot entre la variable dependiente y la independendiente; y, a su vez, con la matriz de correlación de Pearson.\n",
    "- Con estas comprobaciones observamos que existe una correlación positiva, pero no muy fuerte (en torno al +0'45, dentro del rango (-1, 1).\n",
    "\n",
    ">**Independencia**\n",
    "- Con esta condición queremos comprobar si los residuos (definidos como la diferencia entre los valores reales y los predichos para la variable dependiente) se comportan de manera aleatoria (es decir, independiente).\n",
    "- Con el scatterplot realizado entre los residuos y el conujunto test de la variable dependiente, comprobamos esa distribución aleatoria de los valores.\n",
    "\n",
    ">**Homocedastidad**\n",
    "- Esta condición comprueba si la varianza de los residuos es constante. Realizamos una gráfica de scatterplot entre los valores predichos y los residuos.\n",
    "\n",
    ">**Normalidad**\n",
    "- La última condición que se debe cumplir para que una regresión lineal sea válida es que los residuos de la variable dependiente se destribuyan de forma normal, con media 0.\n",
    "- Con el gráfico QQPlot y un histograma vemos que, en términos generales, así ocurre. Aunque, como se venía dando, tenemos algunos datos que representan valores atípicos (outliers)."
   ]
  }
 ],
 "metadata": {
  "interpreter": {
   "hash": "31f2aee4e71d21fbe5cf8b01ff0e069b9275f58929596ceb00d14d90e3e16cd6"
  },
  "kernelspec": {
   "display_name": "Python 3.6.9 64-bit",
   "language": "python",
   "name": "python3"
  },
  "language_info": {
   "codemirror_mode": {
    "name": "ipython",
    "version": 3
   },
   "file_extension": ".py",
   "mimetype": "text/x-python",
   "name": "python",
   "nbconvert_exporter": "python",
   "pygments_lexer": "ipython3",
   "version": "3.6.9"
  },
  "orig_nbformat": 4
 },
 "nbformat": 4,
 "nbformat_minor": 2
}
