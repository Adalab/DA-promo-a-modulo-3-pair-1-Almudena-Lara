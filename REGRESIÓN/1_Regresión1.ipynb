{
 "cells": [
  {
   "cell_type": "markdown",
   "metadata": {},
   "source": [
    "### Módulo 3 | PAIR PROGRAMMING | Regresión 1 | 25/05/22 | Almudena & Lara"
   ]
  },
  {
   "cell_type": "markdown",
   "metadata": {},
   "source": [
    "- Empezamos una nueva lección, y este es el momento de poner en práctica los conocimientos adquiridos sobre la Regresión Lineal Simple I. Para ello os vamos a pedir que por vuestra cuenta busqueis un dataset que os guste, por ejemplo de Kaggle o de donde queráis extraerlo.\n",
    "- De forma que vamos a probar a realizar ajustes lineales con el fin de predecir alguna de sus variables Para los ejercicios de _pair programming** de Regresión lineal I, II y Regresión Lineal múltiple I y II usaremos el **dataframe_** que se tome para el desarrollo de este ejercicio de pair programming**.\n",
    "- Se ruega a la hora de realizar la entrega que incluyais el conjunto de datos que hayais decidido emplear para estos ejercicio"
   ]
  },
  {
   "cell_type": "code",
   "execution_count": 13,
   "metadata": {},
   "outputs": [],
   "source": [
    "import pandas as pd \n",
    "import numpy as np\n",
    "import seaborn as sns\n",
    "import matplotlib.pyplot as plt"
   ]
  },
  {
   "cell_type": "markdown",
   "metadata": {},
   "source": [
    "# EJERCICIO 1\n",
    "Buscar un conjunto de datos a analizar:\n",
    ">Se recomienda que el conjunto de datos a analizar tenga variables numéricas y categóricas, primando que haya más de una variable de tipo numérico.\n",
    "> Ya que tambien se utilizarán serán útiles a la hora de realizar predicciones en las clases de regresión lineal múltiple. \n",
    ">Asimismo, se recomienda que los datasets esten ligeramente limpios para facilidar los análisis.\n",
    "\n",
    "\n"
   ]
  },
  {
   "cell_type": "code",
   "execution_count": null,
   "metadata": {},
   "outputs": [],
   "source": [
    "df = pd.read_csv(\"mdc.csv\", encoding=\"latin-1\", index_col= 0)\n",
    "df.head()"
   ]
  },
  {
   "cell_type": "markdown",
   "metadata": {},
   "source": [
    "**DESCRIPCIÓN DE NUESTRAS VARIABLES**\n",
    "> - TITLE character Categorical Nominal - name of movie\n",
    "> - YEAR numeric continuous Year Release Date\n",
    "> - GENRE character Categorical Nominal - mix of many IMDB & Rotten Tomatoes Genre labels\n",
    "> - RUNTIME numeric continuous Length of movie in minutes\n",
    "> - MPA_RATING character Categorical Ordinal - Motion Picture Association film rating system\n",
    "> - IMDB_RATING numeric discrete Rating on scale 1-10 with 10th percent .1-.9\n",
    "> - IMDB_VOTES numeric continuous Number of user votes\n",
    "> - GROSS numeric continuous Gross Profit as a whole number\n",
    "> - DIRECTOR character Categorical Nominal - top 1 director\n",
    "> - STARS character Categorical Nominal - top 4 actor/actress\n",
    "> - DESCRIPTION character Description of movie\n",
    "> - CRIT_CONSENSUS character Critics Consensus (Professional) about the movie\n",
    "> - TOMATO_METER numeric continuous Percentage of PROFESSIONAL critic reviews that are positive\n",
    "> - TOMATO_REVIEW numeric continuous Number of PROFESSIONAL reviews count\n",
    "> - TOM_AUD_SCORE numeric continuous Percentage of regular user movie score\n",
    "> - TOM_RATINGS numeric continuous Number of regular user votes\n",
    "> - ENTITY character Factor w/2 levels (Marvel/DC) - entity for premise of movie\n"
   ]
  },
  {
   "cell_type": "markdown",
   "metadata": {},
   "source": [
    "**HIPÓTESIS**:\n",
    "\n",
    "- Pelis más largas tienen más rating\n",
    "- El rating de IMDB es proporcional al de RottenTomatoes\n",
    "- Las películas nuevas duran más\n",
    "- El rating es mayor cuanto más recientes son las películas\n",
    "- Las películas que más gustan tienen más reseñas. (*) Posible regresión Hiperbólica (cuanto más/menos gusta una película, más reseñas recibe)."
   ]
  },
  {
   "cell_type": "markdown",
   "metadata": {},
   "source": [
    "- Para cantidad de reseñas podemos comprar: imdb_votes & tom_ratings "
   ]
  },
  {
   "cell_type": "markdown",
   "metadata": {},
   "source": [
    "## EJERCICIO 2\n",
    "- Explicar los datos y las variables disponibles en el conjunto de datos seleccionado. Esto se hace para que comprendais mejor los datos con los que estais trabajando.\n",
    "- Realizar un EDA sencillo para la variable dependiente y la variable independiente.\n"
   ]
  },
  {
   "cell_type": "code",
   "execution_count": 10,
   "metadata": {},
   "outputs": [
    {
     "name": "stdout",
     "output_type": "stream",
     "text": [
      "<class 'pandas.core.frame.DataFrame'>\n",
      "Int64Index: 90 entries, 1 to 90\n",
      "Data columns (total 18 columns):\n",
      " #   Column          Non-Null Count  Dtype  \n",
      "---  ------          --------------  -----  \n",
      " 0   title           90 non-null     object \n",
      " 1   year            90 non-null     int64  \n",
      " 2   genre           90 non-null     object \n",
      " 3   runtime         90 non-null     int64  \n",
      " 4   mpa_rating      90 non-null     object \n",
      " 5   imdb_rating     90 non-null     float64\n",
      " 6   imdb_votes      90 non-null     int64  \n",
      " 7   imdb_gross      90 non-null     int64  \n",
      " 8   director        90 non-null     object \n",
      " 9   stars           90 non-null     object \n",
      " 10  description     90 non-null     object \n",
      " 11  crit_consensus  90 non-null     object \n",
      " 12  tomato_meter    90 non-null     int64  \n",
      " 13  tomato_review   90 non-null     int64  \n",
      " 14  tom_aud_score   90 non-null     int64  \n",
      " 15  tom_ratings     90 non-null     int64  \n",
      " 16  entity          90 non-null     object \n",
      " 17  id              90 non-null     int64  \n",
      "dtypes: float64(1), int64(9), object(8)\n",
      "memory usage: 13.4+ KB\n"
     ]
    }
   ],
   "source": [
    "df.info()"
   ]
  },
  {
   "cell_type": "markdown",
   "metadata": {},
   "source": [
    "Con .info() vemos:\n",
    "- que las columnas no tienen nulos.\n",
    "- 90 registros.\n",
    "- que los IMDB_ratings son floats (1 - 10), mientras que los tom_aud_score (%) es int. Se refieren a la nota de la película.\n",
    "[...]"
   ]
  },
  {
   "cell_type": "markdown",
   "metadata": {},
   "source": [
    "# HIPÓTESIS Y VARIABLES:\n",
    "Nos decantamos por esta HIPÓTESIS:\n",
    "- H1: \"Cuanto más largas son las películas mejor puntuación reciben\"\n",
    "- H0: \"El tiempo de duración las películas no afecta a su puntuación\"\n",
    "\n",
    "**VARIABLES**\n",
    "\n",
    "- DEPENDIENTE: Nota en IMDB --> IMBD_rating\n",
    "- INDEPENDIENTE: Duración de la película --> runtime"
   ]
  },
  {
   "cell_type": "markdown",
   "metadata": {},
   "source": [
    "**EDA DE LAS VARIABLES**"
   ]
  },
  {
   "cell_type": "markdown",
   "metadata": {},
   "source": [
    "1) IMDB_rating"
   ]
  },
  {
   "cell_type": "code",
   "execution_count": 12,
   "metadata": {},
   "outputs": [
    {
     "data": {
      "text/plain": [
       "count    90.000000\n",
       "mean      6.552222\n",
       "std       1.271576\n",
       "min       2.900000\n",
       "25%       5.700000\n",
       "50%       6.900000\n",
       "75%       7.400000\n",
       "max       9.000000\n",
       "Name: imdb_rating, dtype: float64"
      ]
     },
     "execution_count": 12,
     "metadata": {},
     "output_type": "execute_result"
    }
   ],
   "source": [
    "df[\"imdb_rating\"].describe()"
   ]
  },
  {
   "cell_type": "code",
   "execution_count": 16,
   "metadata": {},
   "outputs": [
    {
     "data": {
      "image/png": "[encoded data removed]",
      "text/plain": [
       "<Figure size 432x288 with 1 Axes>"
      ]
     },
     "metadata": {
      "needs_background": "light"
     },
     "output_type": "display_data"
    },
    {
     "data": {
      "image/png": "[encoded data removed]",
      "text/plain": [
       "<Figure size 432x288 with 1 Axes>"
      ]
     },
     "metadata": {
      "needs_background": "light"
     },
     "output_type": "display_data"
    }
   ],
   "source": [
    "plt.figure()\n",
    "sns.violinplot(data = df, x = \"imdb_rating\")\n",
    "plt.show()\n",
    "\n",
    "plt.figure()\n",
    "sns.boxplot(data = df, x = \"imdb_rating\")\n",
    "plt.show()\n"
   ]
  },
  {
   "cell_type": "code",
   "execution_count": 22,
   "metadata": {},
   "outputs": [
    {
     "data": {
      "text/html": [
       "<div>\n",
       "<style scoped>\n",
       "    .dataframe tbody tr th:only-of-type {\n",
       "        vertical-align: middle;\n",
       "    }\n",
       "\n",
       "    .dataframe tbody tr th {\n",
       "        vertical-align: top;\n",
       "    }\n",
       "\n",
       "    .dataframe thead th {\n",
       "        text-align: right;\n",
       "    }\n",
       "</style>\n",
       "<table border=\"1\" class=\"dataframe\">\n",
       "  <thead>\n",
       "    <tr style=\"text-align: right;\">\n",
       "      <th></th>\n",
       "      <th>title</th>\n",
       "      <th>year</th>\n",
       "      <th>genre</th>\n",
       "      <th>runtime</th>\n",
       "      <th>mpa_rating</th>\n",
       "      <th>imdb_rating</th>\n",
       "      <th>imdb_votes</th>\n",
       "      <th>imdb_gross</th>\n",
       "      <th>director</th>\n",
       "      <th>stars</th>\n",
       "      <th>description</th>\n",
       "      <th>crit_consensus</th>\n",
       "      <th>tomato_meter</th>\n",
       "      <th>tomato_review</th>\n",
       "      <th>tom_aud_score</th>\n",
       "      <th>tom_ratings</th>\n",
       "      <th>entity</th>\n",
       "      <th>id</th>\n",
       "    </tr>\n",
       "  </thead>\n",
       "  <tbody>\n",
       "    <tr>\n",
       "      <th>71</th>\n",
       "      <td>Steel</td>\n",
       "      <td>1997</td>\n",
       "      <td>Action, Adventure, Crime</td>\n",
       "      <td>97</td>\n",
       "      <td>PG-13</td>\n",
       "      <td>2.9</td>\n",
       "      <td>11519</td>\n",
       "      <td>1710000</td>\n",
       "      <td>Kenneth Johnson</td>\n",
       "      <td>Shaquille O'Neal,Annabeth Gish,Judd Nelson,Ric...</td>\n",
       "      <td>A scientist for the military turns himself int...</td>\n",
       "      <td>Steel is a badly-acted movie that indulges not...</td>\n",
       "      <td>12</td>\n",
       "      <td>26</td>\n",
       "      <td>15</td>\n",
       "      <td>5000</td>\n",
       "      <td>DC</td>\n",
       "      <td>71</td>\n",
       "    </tr>\n",
       "  </tbody>\n",
       "</table>\n",
       "</div>"
      ],
      "text/plain": [
       "    title  year                     genre  runtime mpa_rating  imdb_rating  \\\n",
       "71  Steel  1997  Action, Adventure, Crime       97      PG-13          2.9   \n",
       "\n",
       "    imdb_votes  imdb_gross         director  \\\n",
       "71       11519     1710000  Kenneth Johnson   \n",
       "\n",
       "                                                stars  \\\n",
       "71  Shaquille O'Neal,Annabeth Gish,Judd Nelson,Ric...   \n",
       "\n",
       "                                          description  \\\n",
       "71  A scientist for the military turns himself int...   \n",
       "\n",
       "                                       crit_consensus  tomato_meter  \\\n",
       "71  Steel is a badly-acted movie that indulges not...            12   \n",
       "\n",
       "    tomato_review  tom_aud_score  tom_ratings entity  id  \n",
       "71             26             15         5000     DC  71  "
      ]
     },
     "execution_count": 22,
     "metadata": {},
     "output_type": "execute_result"
    }
   ],
   "source": [
    "df[\"imdb_rating\"].min()\n",
    "\n",
    "df[df[\"imdb_rating\"]== df[\"imdb_rating\"].min()]"
   ]
  },
  {
   "cell_type": "markdown",
   "metadata": {},
   "source": [
    "2. Runtime"
   ]
  },
  {
   "cell_type": "code",
   "execution_count": 23,
   "metadata": {},
   "outputs": [
    {
     "data": {
      "text/plain": [
       "count     90.000000\n",
       "mean     124.144444\n",
       "std       23.522192\n",
       "min       58.000000\n",
       "25%      110.500000\n",
       "50%      124.000000\n",
       "75%      136.000000\n",
       "max      244.000000\n",
       "Name: runtime, dtype: float64"
      ]
     },
     "execution_count": 23,
     "metadata": {},
     "output_type": "execute_result"
    }
   ],
   "source": [
    "df[\"runtime\"].describe()"
   ]
  },
  {
   "cell_type": "code",
   "execution_count": 24,
   "metadata": {},
   "outputs": [
    {
     "data": {
      "text/html": [
       "<div>\n",
       "<style scoped>\n",
       "    .dataframe tbody tr th:only-of-type {\n",
       "        vertical-align: middle;\n",
       "    }\n",
       "\n",
       "    .dataframe tbody tr th {\n",
       "        vertical-align: top;\n",
       "    }\n",
       "\n",
       "    .dataframe thead th {\n",
       "        text-align: right;\n",
       "    }\n",
       "</style>\n",
       "<table border=\"1\" class=\"dataframe\">\n",
       "  <thead>\n",
       "    <tr style=\"text-align: right;\">\n",
       "      <th></th>\n",
       "      <th>title</th>\n",
       "      <th>year</th>\n",
       "      <th>genre</th>\n",
       "      <th>runtime</th>\n",
       "      <th>mpa_rating</th>\n",
       "      <th>imdb_rating</th>\n",
       "      <th>imdb_votes</th>\n",
       "      <th>imdb_gross</th>\n",
       "      <th>director</th>\n",
       "      <th>stars</th>\n",
       "      <th>description</th>\n",
       "      <th>crit_consensus</th>\n",
       "      <th>tomato_meter</th>\n",
       "      <th>tomato_review</th>\n",
       "      <th>tom_aud_score</th>\n",
       "      <th>tom_ratings</th>\n",
       "      <th>entity</th>\n",
       "      <th>id</th>\n",
       "    </tr>\n",
       "  </thead>\n",
       "  <tbody>\n",
       "    <tr>\n",
       "      <th>58</th>\n",
       "      <td>Superman and the Mole-Men</td>\n",
       "      <td>1951</td>\n",
       "      <td>Action, Adventure, Drama</td>\n",
       "      <td>58</td>\n",
       "      <td>Passed</td>\n",
       "      <td>5.7</td>\n",
       "      <td>1828</td>\n",
       "      <td>0</td>\n",
       "      <td>Lee Sholem</td>\n",
       "      <td>George Reeves,Phyllis Coates,Jeff Corey,Walter...</td>\n",
       "      <td>When underground beings explore the surface wo...</td>\n",
       "      <td>Even at under an hour, this children's fantasy...</td>\n",
       "      <td>0</td>\n",
       "      <td>2</td>\n",
       "      <td>83</td>\n",
       "      <td>250</td>\n",
       "      <td>DC</td>\n",
       "      <td>58</td>\n",
       "    </tr>\n",
       "  </tbody>\n",
       "</table>\n",
       "</div>"
      ],
      "text/plain": [
       "                        title  year                     genre  runtime  \\\n",
       "58  Superman and the Mole-Men  1951  Action, Adventure, Drama       58   \n",
       "\n",
       "   mpa_rating  imdb_rating  imdb_votes  imdb_gross    director  \\\n",
       "58     Passed          5.7        1828           0  Lee Sholem   \n",
       "\n",
       "                                                stars  \\\n",
       "58  George Reeves,Phyllis Coates,Jeff Corey,Walter...   \n",
       "\n",
       "                                          description  \\\n",
       "58  When underground beings explore the surface wo...   \n",
       "\n",
       "                                       crit_consensus  tomato_meter  \\\n",
       "58  Even at under an hour, this children's fantasy...             0   \n",
       "\n",
       "    tomato_review  tom_aud_score  tom_ratings entity  id  \n",
       "58              2             83          250     DC  58  "
      ]
     },
     "execution_count": 24,
     "metadata": {},
     "output_type": "execute_result"
    }
   ],
   "source": [
    "df[df[\"runtime\"]== df[\"runtime\"].min()]"
   ]
  },
  {
   "cell_type": "code",
   "execution_count": 26,
   "metadata": {},
   "outputs": [
    {
     "data": {
      "image/png": "[encoded data removed]",
      "text/plain": [
       "<Figure size 432x288 with 1 Axes>"
      ]
     },
     "metadata": {
      "needs_background": "light"
     },
     "output_type": "display_data"
    },
    {
     "data": {
      "image/png": "[encoded data removed]",
      "text/plain": [
       "<Figure size 432x288 with 1 Axes>"
      ]
     },
     "metadata": {
      "needs_background": "light"
     },
     "output_type": "display_data"
    },
    {
     "data": {
      "image/png": "[encoded data removed]",
      "text/plain": [
       "<Figure size 432x288 with 1 Axes>"
      ]
     },
     "metadata": {
      "needs_background": "light"
     },
     "output_type": "display_data"
    }
   ],
   "source": [
    "plt.figure()\n",
    "sns.violinplot(data = df, x = \"runtime\")\n",
    "plt.show()\n",
    "\n",
    "plt.figure()\n",
    "sns.boxplot(data = df, x = \"runtime\")\n",
    "plt.show()\n",
    "\n",
    "plt.figure()\n",
    "sns.swarmplot(data = df, x = \"runtime\")\n",
    "plt.show()\n"
   ]
  },
  {
   "cell_type": "code",
   "execution_count": 27,
   "metadata": {},
   "outputs": [
    {
     "data": {
      "text/html": [
       "<div>\n",
       "<style scoped>\n",
       "    .dataframe tbody tr th:only-of-type {\n",
       "        vertical-align: middle;\n",
       "    }\n",
       "\n",
       "    .dataframe tbody tr th {\n",
       "        vertical-align: top;\n",
       "    }\n",
       "\n",
       "    .dataframe thead th {\n",
       "        text-align: right;\n",
       "    }\n",
       "</style>\n",
       "<table border=\"1\" class=\"dataframe\">\n",
       "  <thead>\n",
       "    <tr style=\"text-align: right;\">\n",
       "      <th></th>\n",
       "      <th>title</th>\n",
       "      <th>year</th>\n",
       "      <th>genre</th>\n",
       "      <th>runtime</th>\n",
       "      <th>mpa_rating</th>\n",
       "      <th>imdb_rating</th>\n",
       "      <th>imdb_votes</th>\n",
       "      <th>imdb_gross</th>\n",
       "      <th>director</th>\n",
       "      <th>stars</th>\n",
       "      <th>description</th>\n",
       "      <th>crit_consensus</th>\n",
       "      <th>tomato_meter</th>\n",
       "      <th>tomato_review</th>\n",
       "      <th>tom_aud_score</th>\n",
       "      <th>tom_ratings</th>\n",
       "      <th>entity</th>\n",
       "      <th>id</th>\n",
       "    </tr>\n",
       "  </thead>\n",
       "  <tbody>\n",
       "    <tr>\n",
       "      <th>1</th>\n",
       "      <td>Captain America</td>\n",
       "      <td>1944</td>\n",
       "      <td>Action, Adventure, Sci-Fi</td>\n",
       "      <td>244</td>\n",
       "      <td>Approved</td>\n",
       "      <td>5.5</td>\n",
       "      <td>844</td>\n",
       "      <td>0</td>\n",
       "      <td>Elmer Clifton</td>\n",
       "      <td>Elmer Clifton,Dick Purcell,Lorna Gray,Lionel A...</td>\n",
       "      <td>Superhero Captain America battles the evil for...</td>\n",
       "      <td>Find one of these old serials, friend. They're...</td>\n",
       "      <td>0</td>\n",
       "      <td>1</td>\n",
       "      <td>82</td>\n",
       "      <td>250</td>\n",
       "      <td>MARVEL</td>\n",
       "      <td>1</td>\n",
       "    </tr>\n",
       "  </tbody>\n",
       "</table>\n",
       "</div>"
      ],
      "text/plain": [
       "             title  year                      genre  runtime mpa_rating  \\\n",
       "1  Captain America  1944  Action, Adventure, Sci-Fi      244   Approved   \n",
       "\n",
       "   imdb_rating  imdb_votes  imdb_gross       director  \\\n",
       "1          5.5         844           0  Elmer Clifton   \n",
       "\n",
       "                                               stars  \\\n",
       "1  Elmer Clifton,Dick Purcell,Lorna Gray,Lionel A...   \n",
       "\n",
       "                                         description  \\\n",
       "1  Superhero Captain America battles the evil for...   \n",
       "\n",
       "                                      crit_consensus  tomato_meter  \\\n",
       "1  Find one of these old serials, friend. They're...             0   \n",
       "\n",
       "   tomato_review  tom_aud_score  tom_ratings  entity  id  \n",
       "1              1             82          250  MARVEL   1  "
      ]
     },
     "execution_count": 27,
     "metadata": {},
     "output_type": "execute_result"
    }
   ],
   "source": [
    "df[df[\"runtime\"]== df[\"runtime\"].max()]"
   ]
  },
  {
   "cell_type": "markdown",
   "metadata": {},
   "source": [
    "# EJERCICIO 3\n",
    "Realiza el ajuste lineal simple utilizando diversas métricas y realiza una gráfica mostrando los resultados.\n"
   ]
  },
  {
   "cell_type": "markdown",
   "metadata": {},
   "source": [
    "# EJERCICIO 4\n",
    "Interpretación de los resultados. Ahora interpreta los resultados obtenidos del ajuste lineal simple y explica lo mejor posible la naturaleza de los mismos."
   ]
  }
 ],
 "metadata": {
  "interpreter": {
   "hash": "0620710c65b0f5ccc651a2aa8870ae0eb4c70492424a8d7866846658189426a3"
  },
  "kernelspec": {
   "display_name": "Python 3.9.7 ('base')",
   "language": "python",
   "name": "python3"
  },
  "language_info": {
   "codemirror_mode": {
    "name": "ipython",
    "version": 3
   },
   "file_extension": ".py",
   "mimetype": "text/x-python",
   "name": "python",
   "nbconvert_exporter": "python",
   "pygments_lexer": "ipython3",
   "version": "3.9.7"
  },
  "orig_nbformat": 4
 },
 "nbformat": 4,
 "nbformat_minor": 2
}
